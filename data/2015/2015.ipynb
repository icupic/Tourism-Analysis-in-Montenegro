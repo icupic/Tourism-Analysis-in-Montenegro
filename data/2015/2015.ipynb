{
 "cells": [
  {
   "cell_type": "code",
   "execution_count": 1,
   "id": "8e1fb111",
   "metadata": {
    "ExecuteTime": {
     "end_time": "2023-03-18T14:35:26.514229Z",
     "start_time": "2023-03-18T14:35:25.642843Z"
    }
   },
   "outputs": [],
   "source": [
    "import pandas as pd\n",
    "import numpy as np"
   ]
  },
  {
   "cell_type": "markdown",
   "id": "a5579fbd",
   "metadata": {},
   "source": [
    "<h1 align=\"center\">Data Wrangling: Import and Cleaning(2015)</h1>"
   ]
  },
  {
   "cell_type": "code",
   "execution_count": 2,
   "id": "482de30d",
   "metadata": {
    "ExecuteTime": {
     "end_time": "2023-03-18T14:35:27.000642Z",
     "start_time": "2023-03-18T14:35:26.993256Z"
    }
   },
   "outputs": [],
   "source": [
    "file_paths = {\n",
    "    'jan': r'C:\\Users\\Ivan\\Desktop\\tourism_analysis\\data\\2015\\januar_2015.xls',\n",
    "    'feb': r'C:\\Users\\Ivan\\Desktop\\tourism_analysis\\data\\2015\\februar_2015.xls',\n",
    "    'mar': r'C:\\Users\\Ivan\\Desktop\\tourism_analysis\\data\\2015\\mart_2015.xls',\n",
    "    'apr': r'C:\\Users\\Ivan\\Desktop\\tourism_analysis\\data\\2015\\april_2015.xls',\n",
    "    'maj': r'C:\\Users\\Ivan\\Desktop\\tourism_analysis\\data\\2015\\maj_2015.xls',\n",
    "    'jun': r'C:\\Users\\Ivan\\Desktop\\tourism_analysis\\data\\2015\\jun_2015.xls',\n",
    "    'jul': r'C:\\Users\\Ivan\\Desktop\\tourism_analysis\\data\\2015\\jul_2015.xls',\n",
    "    'avg': r'C:\\Users\\Ivan\\Desktop\\tourism_analysis\\data\\2015\\avgust_2015.xls',\n",
    "    'sep': r'C:\\Users\\Ivan\\Desktop\\tourism_analysis\\data\\2015\\septembar_2015.xls',\n",
    "    'okt': r'C:\\Users\\Ivan\\Desktop\\tourism_analysis\\data\\2015\\oktobar_2015.xls',\n",
    "    'nov': r'C:\\Users\\Ivan\\Desktop\\tourism_analysis\\data\\2015\\novembar_2015.xls',\n",
    "    'dec': r'C:\\Users\\Ivan\\Desktop\\tourism_analysis\\data\\2015\\decembar_2015.xls'\n",
    "}"
   ]
  },
  {
   "cell_type": "markdown",
   "id": "70872898",
   "metadata": {},
   "source": [
    "<h3>Table 1: Tourists by Accommodation Type</h3> <br>\n",
    "\n",
    "The code defines a dictionary `file_paths`| that contains file paths for monthly tourism data in 2015. It then reads the data from each file, cleans and prepares the data by renaming columns, dropping unnecessary columns, and re-categorizing accommodation types. The cleaned data is stored in a dictionary `tourists_by_acc_dict`, where the key is the month abbreviation and the value is a pandas DataFrame containing the cleaned data for that month. Finally, the code concatenates the DataFrames for all months except January and sums the number of tourists by accommodation type to create a summary DataFrame `tourists_by_acc_2015`."
   ]
  },
  {
   "cell_type": "code",
   "execution_count": 29,
   "id": "278cf23f",
   "metadata": {
    "ExecuteTime": {
     "end_time": "2023-03-19T19:35:18.603939Z",
     "start_time": "2023-03-19T19:35:17.917098Z"
    }
   },
   "outputs": [
    {
     "name": "stdout",
     "output_type": "stream",
     "text": [
      "                      tip_smjestaja  dolasci_turista\n",
      "0               Kolektivni smještaj            20578\n",
      "1  Individualni turistički smještaj             3741\n"
     ]
    }
   ],
   "source": [
    "tourists_by_acc_dict = {}\n",
    "for month, path in file_paths.items():\n",
    "    tourists_by_acc_dict[f'{month}'] = pd.read_excel(path, sheet_name='Sheet7', header=4, nrows=2)\n",
    "    \n",
    "for year, df in tourists_by_acc_dict.items():\n",
    "    df.rename(columns={\n",
    "            df.columns[0]: 'tip_smjestaja',\n",
    "            df.columns[1]: 'dolasci_turista'},\n",
    "            inplace=True\n",
    "    )\n",
    "    df.drop(columns=[df.columns[2], df.columns[3]],\n",
    "            inplace=True)\n",
    "    filt = df['tip_smjestaja'].str.contains('Kolektivni')\n",
    "    filt1 = df['tip_smjestaja'].str.contains('Privatni')\n",
    "    df.loc[filt, 'tip_smjestaja'] = 'Kolektivni smještaj'\n",
    "    df.loc[filt1, 'tip_smjestaja'] = 'Individualni turistički smještaj'\n",
    "print(df)"
   ]
  },
  {
   "cell_type": "code",
   "execution_count": 30,
   "id": "66612790",
   "metadata": {
    "ExecuteTime": {
     "end_time": "2023-03-19T19:35:19.227945Z",
     "start_time": "2023-03-19T19:35:19.170286Z"
    }
   },
   "outputs": [
    {
     "data": {
      "text/html": [
       "<div>\n",
       "<style scoped>\n",
       "    .dataframe tbody tr th:only-of-type {\n",
       "        vertical-align: middle;\n",
       "    }\n",
       "\n",
       "    .dataframe tbody tr th {\n",
       "        vertical-align: top;\n",
       "    }\n",
       "\n",
       "    .dataframe thead th {\n",
       "        text-align: right;\n",
       "    }\n",
       "</style>\n",
       "<table border=\"1\" class=\"dataframe\">\n",
       "  <thead>\n",
       "    <tr style=\"text-align: right;\">\n",
       "      <th></th>\n",
       "      <th>tip_smjestaja</th>\n",
       "      <th>dolasci_turista</th>\n",
       "    </tr>\n",
       "  </thead>\n",
       "  <tbody>\n",
       "    <tr>\n",
       "      <th>0</th>\n",
       "      <td>Individualni turistički smještaj</td>\n",
       "      <td>979259</td>\n",
       "    </tr>\n",
       "    <tr>\n",
       "      <th>1</th>\n",
       "      <td>Kolektivni smještaj</td>\n",
       "      <td>733850</td>\n",
       "    </tr>\n",
       "  </tbody>\n",
       "</table>\n",
       "</div>"
      ],
      "text/plain": [
       "                      tip_smjestaja  dolasci_turista\n",
       "0  Individualni turistički smještaj           979259\n",
       "1               Kolektivni smještaj           733850"
      ]
     },
     "execution_count": 30,
     "metadata": {},
     "output_type": "execute_result"
    }
   ],
   "source": [
    "df1 = tourists_by_acc_dict['jan'].copy()\n",
    "for key in file_paths:\n",
    "    if key != 'jan':\n",
    "        df1 = pd.concat([df1, tourists_by_acc_dict[key]], ignore_index=True).groupby('tip_smjestaja', as_index=False).sum()\n",
    "tourists_by_acc_2015 = df1.copy()\n",
    "tourists_by_acc_2015"
   ]
  },
  {
   "cell_type": "code",
   "execution_count": 31,
   "id": "3131f621",
   "metadata": {
    "ExecuteTime": {
     "end_time": "2023-03-19T19:35:25.981504Z",
     "start_time": "2023-03-19T19:35:25.629896Z"
    }
   },
   "outputs": [],
   "source": [
    "tourists_by_acc_dict = {}\n",
    "for month, path in file_paths.items():\n",
    "    tourists_by_acc_dict[f'{month}'] = pd.read_excel(path, sheet_name='Sheet8', header=4, nrows=2)\n",
    "    \n",
    "for year, df in tourists_by_acc_dict.items():\n",
    "    df.rename(columns={\n",
    "            df.columns[0]: 'tip_smjestaja',\n",
    "            df.columns[1]: 'nocenje_turista'},\n",
    "            inplace=True\n",
    "    )\n",
    "    df.drop(columns=[df.columns[2], df.columns[3]],\n",
    "            inplace=True)\n",
    "    filt = df['tip_smjestaja'].str.contains('Kolektivni')\n",
    "    filt1 = df['tip_smjestaja'].str.contains('Privatni')\n",
    "    df.loc[filt, 'tip_smjestaja'] = 'Kolektivni smještaj'\n",
    "    df.loc[filt1, 'tip_smjestaja'] = 'Individualni turistički smještaj'"
   ]
  },
  {
   "cell_type": "code",
   "execution_count": 32,
   "id": "aa1393ef",
   "metadata": {
    "ExecuteTime": {
     "end_time": "2023-03-19T19:35:27.781011Z",
     "start_time": "2023-03-19T19:35:27.711940Z"
    }
   },
   "outputs": [],
   "source": [
    "df1 = tourists_by_acc_dict['jan'].copy()\n",
    "for key in file_paths:\n",
    "    if key != 'jan':\n",
    "        df1 = pd.concat([df1, tourists_by_acc_dict[key]], ignore_index=True).groupby('tip_smjestaja', as_index=False).sum()\n",
    "\n",
    "tourists_by_acc_2015 = pd.concat([tourists_by_acc_2015, df1], ignore_index=True).groupby('tip_smjestaja', as_index=False).sum()\n",
    "tourists_by_acc_2015[['dolasci_turista', 'nocenje_turista']] = tourists_by_acc_2015[['dolasci_turista', 'nocenje_turista']].astype('int')"
   ]
  },
  {
   "cell_type": "code",
   "execution_count": 34,
   "id": "2e23d3f9",
   "metadata": {
    "ExecuteTime": {
     "end_time": "2023-03-19T19:47:12.459592Z",
     "start_time": "2023-03-19T19:47:12.276855Z"
    }
   },
   "outputs": [],
   "source": [
    "tourists_by_acc_2015.to_csv(fr'C:\\Users\\Ivan\\Desktop\\tourism_analysis\\data\\cleaned_data\\final_data_accomodation\\tourists_by_accomodation_2015.csv')"
   ]
  },
  {
   "cell_type": "markdown",
   "id": "2c004070",
   "metadata": {},
   "source": [
    "<h3>Table 2: Tourists by Municipality</h3><br>\n",
    "\n",
    "The code provided reads data from multiple Excel sheets and combines them into a single dataframe. It then performs data cleaning operations such as renaming columns, dropping unnecessary columns, filling missing values, and replacing dashes with zeros. Finally, it creates a new dataframe and saves it as a CSV file. The resulting dataframe contains information about the number of foreign and domestic tourists and their overnight stays in various municipalities in Montenegro in `2015`."
   ]
  },
  {
   "cell_type": "code",
   "execution_count": 8,
   "id": "d854f54e",
   "metadata": {
    "ExecuteTime": {
     "end_time": "2023-03-18T14:36:17.943268Z",
     "start_time": "2023-03-18T14:36:17.585477Z"
    }
   },
   "outputs": [],
   "source": [
    "tourists_by_mun_dict = {}\n",
    "for month, path in file_paths.items():\n",
    "    tourists_by_mun_dict[f'{month}'] = pd.read_excel(path, sheet_name='Sheet4', header=3)\n",
    "\n",
    "for month, df in tourists_by_mun_dict.items():\n",
    "    df.rename(columns={\n",
    "            df.columns[0]: 'opstina',\n",
    "            df.columns[1]: 'dolasci_stranih_turista',\n",
    "            df.columns[2]: 'dolasci_domacih_turista',\n",
    "            df.columns[5]: 'nocenje_stranih_turista',\n",
    "            df.columns[6]: 'nocenje_domacih_turista'},\n",
    "            inplace=True\n",
    "    )\n",
    "    df.drop(labels=0, inplace=True)\n",
    "    df.drop(columns=[df.columns[3], df.columns[4], df.columns[7], df.columns[8]],\n",
    "            inplace=True)\n",
    "    tourists_by_mun_dict[month] = tourists_by_mun_dict[month].fillna(0)\n",
    "    tourists_by_mun_dict[month] = tourists_by_mun_dict[month].replace('-', 0)"
   ]
  },
  {
   "cell_type": "code",
   "execution_count": 9,
   "id": "4bd00a7b",
   "metadata": {
    "ExecuteTime": {
     "end_time": "2023-03-18T14:36:18.305793Z",
     "start_time": "2023-03-18T14:36:18.225845Z"
    }
   },
   "outputs": [
    {
     "data": {
      "text/html": [
       "<div>\n",
       "<style scoped>\n",
       "    .dataframe tbody tr th:only-of-type {\n",
       "        vertical-align: middle;\n",
       "    }\n",
       "\n",
       "    .dataframe tbody tr th {\n",
       "        vertical-align: top;\n",
       "    }\n",
       "\n",
       "    .dataframe thead th {\n",
       "        text-align: right;\n",
       "    }\n",
       "</style>\n",
       "<table border=\"1\" class=\"dataframe\">\n",
       "  <thead>\n",
       "    <tr style=\"text-align: right;\">\n",
       "      <th></th>\n",
       "      <th>opstina</th>\n",
       "      <th>dolasci_stranih_turista</th>\n",
       "      <th>dolasci_domacih_turista</th>\n",
       "      <th>nocenje_stranih_turista</th>\n",
       "      <th>nocenje_domacih_turista</th>\n",
       "    </tr>\n",
       "  </thead>\n",
       "  <tbody>\n",
       "    <tr>\n",
       "      <th>0</th>\n",
       "      <td>Andrijevica</td>\n",
       "      <td>33</td>\n",
       "      <td>139</td>\n",
       "      <td>37</td>\n",
       "      <td>209</td>\n",
       "    </tr>\n",
       "    <tr>\n",
       "      <th>1</th>\n",
       "      <td>Bar</td>\n",
       "      <td>173320</td>\n",
       "      <td>10096</td>\n",
       "      <td>1494031</td>\n",
       "      <td>38565</td>\n",
       "    </tr>\n",
       "    <tr>\n",
       "      <th>2</th>\n",
       "      <td>Berane</td>\n",
       "      <td>1074</td>\n",
       "      <td>920</td>\n",
       "      <td>1503</td>\n",
       "      <td>1249</td>\n",
       "    </tr>\n",
       "    <tr>\n",
       "      <th>3</th>\n",
       "      <td>Bijelo Polje</td>\n",
       "      <td>2028</td>\n",
       "      <td>3191</td>\n",
       "      <td>3567</td>\n",
       "      <td>5803</td>\n",
       "    </tr>\n",
       "    <tr>\n",
       "      <th>4</th>\n",
       "      <td>Budva</td>\n",
       "      <td>704608</td>\n",
       "      <td>66998</td>\n",
       "      <td>4527724</td>\n",
       "      <td>360217</td>\n",
       "    </tr>\n",
       "  </tbody>\n",
       "</table>\n",
       "</div>"
      ],
      "text/plain": [
       "        opstina  dolasci_stranih_turista  dolasci_domacih_turista  \\\n",
       "0   Andrijevica                       33                      139   \n",
       "1           Bar                   173320                    10096   \n",
       "2        Berane                     1074                      920   \n",
       "3  Bijelo Polje                     2028                     3191   \n",
       "4         Budva                   704608                    66998   \n",
       "\n",
       "   nocenje_stranih_turista  nocenje_domacih_turista  \n",
       "0                       37                      209  \n",
       "1                  1494031                    38565  \n",
       "2                     1503                     1249  \n",
       "3                     3567                     5803  \n",
       "4                  4527724                   360217  "
      ]
     },
     "execution_count": 9,
     "metadata": {},
     "output_type": "execute_result"
    }
   ],
   "source": [
    "df1 = tourists_by_mun_dict['jan'].copy()\n",
    "for key in file_paths:\n",
    "    if key != 'jan':\n",
    "        df1 = pd.concat([df1, tourists_by_mun_dict[key]], ignore_index=True).groupby('opstina', as_index=False).sum()\n",
    "tourists_by_municipality_2015 = df1.copy()\n",
    "tourists_by_municipality_2015.head()"
   ]
  },
  {
   "cell_type": "code",
   "execution_count": 16,
   "id": "178694d1",
   "metadata": {
    "ExecuteTime": {
     "end_time": "2023-03-19T11:23:58.940570Z",
     "start_time": "2023-03-19T11:23:58.489220Z"
    }
   },
   "outputs": [],
   "source": [
    "  tourists_by_municipality_2015.to_csv(fr'C:\\Users\\Ivan\\Desktop\\tourism_analysis\\data\\cleaned_data\\final_data_municipality\\tourists_by_municipality_2015.csv', index=False)"
   ]
  },
  {
   "cell_type": "markdown",
   "id": "1e0dd006",
   "metadata": {},
   "source": [
    "<h3>Table 3: Tourists by Country</h3><br>\n",
    "This code creates a dictionary of DataFrames with information about tourists by country for each month, from multiple Excel files. The code performs some data cleaning on each DataFrame, including renaming columns, dropping unnecessary columns, removing rows for certain countries, filling in missing values, and replacing dashes with zeros. The code then aggregates the information from each month into a single DataFrame for the year 2015, which is saved as a CSV file."
   ]
  },
  {
   "cell_type": "code",
   "execution_count": 10,
   "id": "6a6b9e76",
   "metadata": {
    "ExecuteTime": {
     "end_time": "2023-03-18T14:36:19.620755Z",
     "start_time": "2023-03-18T14:36:19.260632Z"
    }
   },
   "outputs": [],
   "source": [
    "tourists_by_country_dict = {}\n",
    "for month, path in file_paths.items():\n",
    "    tourists_by_country_dict[f'{month}'] = pd.read_excel(path, sheet_name='Sheet5', header=1)\n",
    "\n",
    "for month, df in tourists_by_country_dict.items():\n",
    "    df.rename(columns={\n",
    "        df.columns[0]: 'zemlja_porijekla', \n",
    "        df.columns[1]: 'dolasci',\n",
    "        df.columns[3]:'nocenja',},\n",
    "        inplace= True)\n",
    "    \n",
    "    df.drop(columns=[df.columns[2], df.columns[4]],\n",
    "            inplace=True)\n",
    "    \n",
    "    filt = (~df['zemlja_porijekla'].isin(['Strani turisti', 'Evropa', 'Vanevropske zemlje']))\n",
    "    tourists_by_country_dict[month] = df[filt]\n",
    "    tourists_by_country_dict[month] = tourists_by_country_dict[month].reset_index(drop=True)\n",
    "    tourists_by_country_dict[month] = tourists_by_country_dict[month].fillna(0)\n",
    "    tourists_by_country_dict[month] = tourists_by_country_dict[month].replace('-', 0)"
   ]
  },
  {
   "cell_type": "code",
   "execution_count": 11,
   "id": "4e249522",
   "metadata": {
    "ExecuteTime": {
     "end_time": "2023-03-18T14:36:20.022897Z",
     "start_time": "2023-03-18T14:36:19.999950Z"
    }
   },
   "outputs": [],
   "source": [
    "df1 = tourists_by_country_dict['jan'].copy()\n",
    "for key in file_paths:\n",
    "    if key != 'jan':\n",
    "        df1['dolasci'] = df1['dolasci'] + tourists_by_country_dict[key]['dolasci']\n",
    "        df1['nocenja'] = df1['dolasci'] + tourists_by_country_dict[key]['nocenja']\n",
    "tourists_by_country_2015 = df1.copy()"
   ]
  },
  {
   "cell_type": "code",
   "execution_count": 13,
   "id": "be074f2f",
   "metadata": {
    "ExecuteTime": {
     "end_time": "2023-03-18T14:36:38.485781Z",
     "start_time": "2023-03-18T14:36:38.466634Z"
    }
   },
   "outputs": [
    {
     "data": {
      "text/html": [
       "<div>\n",
       "<style scoped>\n",
       "    .dataframe tbody tr th:only-of-type {\n",
       "        vertical-align: middle;\n",
       "    }\n",
       "\n",
       "    .dataframe tbody tr th {\n",
       "        vertical-align: top;\n",
       "    }\n",
       "\n",
       "    .dataframe thead th {\n",
       "        text-align: right;\n",
       "    }\n",
       "</style>\n",
       "<table border=\"1\" class=\"dataframe\">\n",
       "  <thead>\n",
       "    <tr style=\"text-align: right;\">\n",
       "      <th></th>\n",
       "      <th>zemlja_porijekla</th>\n",
       "      <th>dolasci</th>\n",
       "      <th>nocenja</th>\n",
       "    </tr>\n",
       "  </thead>\n",
       "  <tbody>\n",
       "    <tr>\n",
       "      <th>0</th>\n",
       "      <td>Albanija</td>\n",
       "      <td>37547</td>\n",
       "      <td>45976</td>\n",
       "    </tr>\n",
       "    <tr>\n",
       "      <th>1</th>\n",
       "      <td>Austrija</td>\n",
       "      <td>17189</td>\n",
       "      <td>17427</td>\n",
       "    </tr>\n",
       "    <tr>\n",
       "      <th>2</th>\n",
       "      <td>Belgija</td>\n",
       "      <td>11213</td>\n",
       "      <td>11341</td>\n",
       "    </tr>\n",
       "    <tr>\n",
       "      <th>3</th>\n",
       "      <td>Bjelorusija</td>\n",
       "      <td>31940</td>\n",
       "      <td>32322</td>\n",
       "    </tr>\n",
       "    <tr>\n",
       "      <th>4</th>\n",
       "      <td>Bosna i Hercegovina</td>\n",
       "      <td>154017</td>\n",
       "      <td>162633</td>\n",
       "    </tr>\n",
       "  </tbody>\n",
       "</table>\n",
       "</div>"
      ],
      "text/plain": [
       "      zemlja_porijekla  dolasci  nocenja\n",
       "0             Albanija    37547    45976\n",
       "1             Austrija    17189    17427\n",
       "2              Belgija    11213    11341\n",
       "3          Bjelorusija    31940    32322\n",
       "4  Bosna i Hercegovina   154017   162633"
      ]
     },
     "execution_count": 13,
     "metadata": {},
     "output_type": "execute_result"
    }
   ],
   "source": [
    "tourists_by_country_2015.head()"
   ]
  },
  {
   "cell_type": "code",
   "execution_count": 15,
   "id": "bfd9c650",
   "metadata": {
    "ExecuteTime": {
     "end_time": "2023-03-19T11:02:27.676811Z",
     "start_time": "2023-03-19T11:02:27.245571Z"
    }
   },
   "outputs": [],
   "source": [
    "tourists_by_country_2015.to_csv('C:/Users/Ivan/Desktop/tourism_analysis/data/cleaned_data/final_data_country/tourists_by_country_2015.csv')"
   ]
  },
  {
   "cell_type": "code",
   "execution_count": null,
   "id": "d79642f5",
   "metadata": {},
   "outputs": [],
   "source": []
  }
 ],
 "metadata": {
  "kernelspec": {
   "display_name": "Python 3 (ipykernel)",
   "language": "python",
   "name": "python3"
  },
  "language_info": {
   "codemirror_mode": {
    "name": "ipython",
    "version": 3
   },
   "file_extension": ".py",
   "mimetype": "text/x-python",
   "name": "python",
   "nbconvert_exporter": "python",
   "pygments_lexer": "ipython3",
   "version": "3.11.0"
  },
  "varInspector": {
   "cols": {
    "lenName": 16,
    "lenType": 16,
    "lenVar": 40
   },
   "kernels_config": {
    "python": {
     "delete_cmd_postfix": "",
     "delete_cmd_prefix": "del ",
     "library": "var_list.py",
     "varRefreshCmd": "print(var_dic_list())"
    },
    "r": {
     "delete_cmd_postfix": ") ",
     "delete_cmd_prefix": "rm(",
     "library": "var_list.r",
     "varRefreshCmd": "cat(var_dic_list()) "
    }
   },
   "types_to_exclude": [
    "module",
    "function",
    "builtin_function_or_method",
    "instance",
    "_Feature"
   ],
   "window_display": false
  }
 },
 "nbformat": 4,
 "nbformat_minor": 5
}
