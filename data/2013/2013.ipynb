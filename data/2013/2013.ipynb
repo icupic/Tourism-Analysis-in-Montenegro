{
 "cells": [
  {
   "cell_type": "code",
   "execution_count": 1,
   "id": "72d62573",
   "metadata": {
    "ExecuteTime": {
     "end_time": "2023-03-18T14:38:24.370574Z",
     "start_time": "2023-03-18T14:38:23.498082Z"
    }
   },
   "outputs": [],
   "source": [
    "import pandas as pd\n",
    "import numpy as np"
   ]
  },
  {
   "cell_type": "markdown",
   "id": "3ae27f3e",
   "metadata": {},
   "source": [
    "<h1 align=\"center\">Data Wrangling: Import and Cleaning(2013)</h1>"
   ]
  },
  {
   "cell_type": "code",
   "execution_count": 2,
   "id": "3fc46231",
   "metadata": {
    "ExecuteTime": {
     "end_time": "2023-03-18T14:38:24.753265Z",
     "start_time": "2023-03-18T14:38:24.747275Z"
    }
   },
   "outputs": [],
   "source": [
    "path = r'C:\\Users\\Ivan\\Desktop\\tourism_analysis\\data\\2013\\ukupno_2013.xls'"
   ]
  },
  {
   "cell_type": "markdown",
   "id": "84807486",
   "metadata": {},
   "source": [
    "<h3>Table 1: Tourists by Accommodation Type</h3>"
   ]
  },
  {
   "cell_type": "code",
   "execution_count": 21,
   "id": "909c4975",
   "metadata": {
    "ExecuteTime": {
     "end_time": "2023-03-19T17:43:46.000735Z",
     "start_time": "2023-03-19T17:43:45.837751Z"
    }
   },
   "outputs": [],
   "source": [
    "df = pd.read_excel(path, sheet_name='Sheet3', header=7)\n",
    "\n",
    "df.rename(columns={\n",
    "    df.columns[0]: 'tip_smjestaja',\n",
    "    df.columns[1]: 'dolasci_stranih_turista',\n",
    "    df.columns[2]: 'dolasci_domacih_turista',\n",
    "    df.columns[4]: 'nocenje_stranih_turista',\n",
    "    df.columns[5]: 'nocenje_domacih_turista'},\n",
    "    inplace=True)\n",
    "#dropping unnecessary columns\n",
    "df.drop(\n",
    "columns=[\n",
    "    df.columns[3],\n",
    "    df.columns[6],\n",
    "    df.columns[7],\n",
    "],\n",
    "inplace=True)\n",
    "\n",
    "df= df[~df['tip_smjestaja'].isnull()]\n",
    "df = df.reset_index(drop=True)\n",
    "df = df.fillna(0)\n",
    "df = df.replace('-', 0)\n",
    "df.iloc[:, 1:] = df.iloc[:, 1:].applymap(lambda x: x.replace(' ', '') if type(x) == str else x).astype('int')"
   ]
  },
  {
   "cell_type": "code",
   "execution_count": 22,
   "id": "aa495e56",
   "metadata": {
    "ExecuteTime": {
     "end_time": "2023-03-19T17:43:48.468124Z",
     "start_time": "2023-03-19T17:43:48.438907Z"
    }
   },
   "outputs": [
    {
     "data": {
      "text/html": [
       "<div>\n",
       "<style scoped>\n",
       "    .dataframe tbody tr th:only-of-type {\n",
       "        vertical-align: middle;\n",
       "    }\n",
       "\n",
       "    .dataframe tbody tr th {\n",
       "        vertical-align: top;\n",
       "    }\n",
       "\n",
       "    .dataframe thead th {\n",
       "        text-align: right;\n",
       "    }\n",
       "</style>\n",
       "<table border=\"1\" class=\"dataframe\">\n",
       "  <thead>\n",
       "    <tr style=\"text-align: right;\">\n",
       "      <th></th>\n",
       "      <th>tip_smjestaja</th>\n",
       "      <th>dolasci_stranih_turista</th>\n",
       "      <th>dolasci_domacih_turista</th>\n",
       "      <th>nocenje_stranih_turista</th>\n",
       "      <th>nocenje_domacih_turista</th>\n",
       "    </tr>\n",
       "  </thead>\n",
       "  <tbody>\n",
       "    <tr>\n",
       "      <th>0</th>\n",
       "      <td>Hoteli</td>\n",
       "      <td>496455</td>\n",
       "      <td>64933</td>\n",
       "      <td>2226395</td>\n",
       "      <td>219611</td>\n",
       "    </tr>\n",
       "    <tr>\n",
       "      <th>1</th>\n",
       "      <td>Apart hoteli</td>\n",
       "      <td>9337</td>\n",
       "      <td>260</td>\n",
       "      <td>58220</td>\n",
       "      <td>903</td>\n",
       "    </tr>\n",
       "    <tr>\n",
       "      <th>2</th>\n",
       "      <td>Pansioni</td>\n",
       "      <td>7188</td>\n",
       "      <td>637</td>\n",
       "      <td>54933</td>\n",
       "      <td>3982</td>\n",
       "    </tr>\n",
       "    <tr>\n",
       "      <th>3</th>\n",
       "      <td>Moteli</td>\n",
       "      <td>341</td>\n",
       "      <td>281</td>\n",
       "      <td>522</td>\n",
       "      <td>479</td>\n",
       "    </tr>\n",
       "    <tr>\n",
       "      <th>4</th>\n",
       "      <td>Turistička naselja</td>\n",
       "      <td>67990</td>\n",
       "      <td>2525</td>\n",
       "      <td>444063</td>\n",
       "      <td>11713</td>\n",
       "    </tr>\n",
       "    <tr>\n",
       "      <th>5</th>\n",
       "      <td>Turistički apartmani</td>\n",
       "      <td>442</td>\n",
       "      <td>141</td>\n",
       "      <td>1484</td>\n",
       "      <td>456</td>\n",
       "    </tr>\n",
       "    <tr>\n",
       "      <th>6</th>\n",
       "      <td>Gostionice</td>\n",
       "      <td>86</td>\n",
       "      <td>0</td>\n",
       "      <td>454</td>\n",
       "      <td>0</td>\n",
       "    </tr>\n",
       "    <tr>\n",
       "      <th>7</th>\n",
       "      <td>Lječilište</td>\n",
       "      <td>7702</td>\n",
       "      <td>7334</td>\n",
       "      <td>91118</td>\n",
       "      <td>107296</td>\n",
       "    </tr>\n",
       "    <tr>\n",
       "      <th>8</th>\n",
       "      <td>Odmarališta</td>\n",
       "      <td>15067</td>\n",
       "      <td>5453</td>\n",
       "      <td>111563</td>\n",
       "      <td>36738</td>\n",
       "    </tr>\n",
       "    <tr>\n",
       "      <th>9</th>\n",
       "      <td>Kampovi</td>\n",
       "      <td>5731</td>\n",
       "      <td>352</td>\n",
       "      <td>21153</td>\n",
       "      <td>747</td>\n",
       "    </tr>\n",
       "    <tr>\n",
       "      <th>10</th>\n",
       "      <td>Prenoćišta (hosteli)</td>\n",
       "      <td>1336</td>\n",
       "      <td>510</td>\n",
       "      <td>1908</td>\n",
       "      <td>3570</td>\n",
       "    </tr>\n",
       "    <tr>\n",
       "      <th>11</th>\n",
       "      <td>Individualni turistički smještaj</td>\n",
       "      <td>712728</td>\n",
       "      <td>85177</td>\n",
       "      <td>5402402</td>\n",
       "      <td>612233</td>\n",
       "    </tr>\n",
       "  </tbody>\n",
       "</table>\n",
       "</div>"
      ],
      "text/plain": [
       "                       tip_smjestaja dolasci_stranih_turista  \\\n",
       "0                             Hoteli                  496455   \n",
       "1                       Apart hoteli                    9337   \n",
       "2                           Pansioni                    7188   \n",
       "3                             Moteli                     341   \n",
       "4                 Turistička naselja                   67990   \n",
       "5               Turistički apartmani                     442   \n",
       "6                        Gostionice                       86   \n",
       "7                         Lječilište                    7702   \n",
       "8                        Odmarališta                   15067   \n",
       "9                            Kampovi                    5731   \n",
       "10              Prenoćišta (hosteli)                    1336   \n",
       "11  Individualni turistički smještaj                  712728   \n",
       "\n",
       "   dolasci_domacih_turista nocenje_stranih_turista nocenje_domacih_turista  \n",
       "0                    64933                 2226395                  219611  \n",
       "1                      260                   58220                     903  \n",
       "2                      637                   54933                    3982  \n",
       "3                      281                     522                     479  \n",
       "4                     2525                  444063                   11713  \n",
       "5                      141                    1484                     456  \n",
       "6                        0                     454                       0  \n",
       "7                     7334                   91118                  107296  \n",
       "8                     5453                  111563                   36738  \n",
       "9                      352                   21153                     747  \n",
       "10                     510                    1908                    3570  \n",
       "11                   85177                 5402402                  612233  "
      ]
     },
     "execution_count": 22,
     "metadata": {},
     "output_type": "execute_result"
    }
   ],
   "source": [
    "tourists_by_acc_2013 = df.copy()\n",
    "tourists_by_acc_2013 = tourists_by_acc_2013.drop(tourists_by_acc_2013.index[12:], axis=0)\n",
    "tourists_by_acc_2013"
   ]
  },
  {
   "cell_type": "code",
   "execution_count": 23,
   "id": "b016d408",
   "metadata": {
    "ExecuteTime": {
     "end_time": "2023-03-19T17:43:54.535411Z",
     "start_time": "2023-03-19T17:43:54.521914Z"
    }
   },
   "outputs": [],
   "source": [
    "tourists_by_acc_2013.to_csv(fr'C:\\Users\\Ivan\\Desktop\\tourism_analysis\\data\\cleaned_data\\final_data_accomodation\\tourists_by_accomodation_2013.csv')"
   ]
  },
  {
   "cell_type": "markdown",
   "id": "5fc3f72a",
   "metadata": {},
   "source": [
    "<h3>Table 2: Tourists by Municipality</h3>"
   ]
  },
  {
   "cell_type": "code",
   "execution_count": 5,
   "id": "1fba41db",
   "metadata": {
    "ExecuteTime": {
     "end_time": "2023-03-18T14:38:27.532281Z",
     "start_time": "2023-03-18T14:38:27.490837Z"
    }
   },
   "outputs": [],
   "source": [
    "df = pd.read_excel(path, sheet_name='Sheet5', header=4)\n",
    "df.rename(columns={\n",
    "        df.columns[0]: 'opstina',\n",
    "        df.columns[1]: 'dolasci_stranih_turista',\n",
    "        df.columns[2]: 'dolasci_domacih_turista',\n",
    "        df.columns[5]: 'nocenje_stranih_turista',\n",
    "        df.columns[6]: 'nocenje_domacih_turista'},\n",
    "        inplace=True\n",
    ")\n",
    "df.drop(labels=0, inplace=True)\n",
    "df.drop(columns=[df.columns[3], df.columns[4], df.columns[7], df.columns[8]],\n",
    "        inplace=True)\n",
    "df.iloc[:, 1:] = df.iloc[:, 1:].applymap(lambda x: x.replace(' ', '') if type(x)==str else x).astype('int')"
   ]
  },
  {
   "cell_type": "code",
   "execution_count": 6,
   "id": "b62dce9e",
   "metadata": {
    "ExecuteTime": {
     "end_time": "2023-03-18T14:38:28.068470Z",
     "start_time": "2023-03-18T14:38:28.049192Z"
    }
   },
   "outputs": [
    {
     "data": {
      "text/html": [
       "<div>\n",
       "<style scoped>\n",
       "    .dataframe tbody tr th:only-of-type {\n",
       "        vertical-align: middle;\n",
       "    }\n",
       "\n",
       "    .dataframe tbody tr th {\n",
       "        vertical-align: top;\n",
       "    }\n",
       "\n",
       "    .dataframe thead th {\n",
       "        text-align: right;\n",
       "    }\n",
       "</style>\n",
       "<table border=\"1\" class=\"dataframe\">\n",
       "  <thead>\n",
       "    <tr style=\"text-align: right;\">\n",
       "      <th></th>\n",
       "      <th>opstina</th>\n",
       "      <th>dolasci_stranih_turista</th>\n",
       "      <th>dolasci_domacih_turista</th>\n",
       "      <th>nocenje_stranih_turista</th>\n",
       "      <th>nocenje_domacih_turista</th>\n",
       "    </tr>\n",
       "  </thead>\n",
       "  <tbody>\n",
       "    <tr>\n",
       "      <th>1</th>\n",
       "      <td>Andrijevica</td>\n",
       "      <td>238</td>\n",
       "      <td>93</td>\n",
       "      <td>285</td>\n",
       "      <td>119</td>\n",
       "    </tr>\n",
       "    <tr>\n",
       "      <th>2</th>\n",
       "      <td>Bar</td>\n",
       "      <td>154171</td>\n",
       "      <td>11287</td>\n",
       "      <td>1203442</td>\n",
       "      <td>55058</td>\n",
       "    </tr>\n",
       "    <tr>\n",
       "      <th>3</th>\n",
       "      <td>Berane</td>\n",
       "      <td>1216</td>\n",
       "      <td>893</td>\n",
       "      <td>1610</td>\n",
       "      <td>1245</td>\n",
       "    </tr>\n",
       "    <tr>\n",
       "      <th>4</th>\n",
       "      <td>Bijelo Polje</td>\n",
       "      <td>1538</td>\n",
       "      <td>1331</td>\n",
       "      <td>2216</td>\n",
       "      <td>1746</td>\n",
       "    </tr>\n",
       "    <tr>\n",
       "      <th>5</th>\n",
       "      <td>Budva</td>\n",
       "      <td>668931</td>\n",
       "      <td>59510</td>\n",
       "      <td>4146313</td>\n",
       "      <td>322600</td>\n",
       "    </tr>\n",
       "  </tbody>\n",
       "</table>\n",
       "</div>"
      ],
      "text/plain": [
       "        opstina dolasci_stranih_turista dolasci_domacih_turista  \\\n",
       "1   Andrijevica                     238                      93   \n",
       "2           Bar                  154171                   11287   \n",
       "3        Berane                    1216                     893   \n",
       "4  Bijelo Polje                    1538                    1331   \n",
       "5         Budva                  668931                   59510   \n",
       "\n",
       "  nocenje_stranih_turista nocenje_domacih_turista  \n",
       "1                     285                     119  \n",
       "2                 1203442                   55058  \n",
       "3                    1610                    1245  \n",
       "4                    2216                    1746  \n",
       "5                 4146313                  322600  "
      ]
     },
     "execution_count": 6,
     "metadata": {},
     "output_type": "execute_result"
    }
   ],
   "source": [
    "tourists_by_mun_2013 = df.copy()\n",
    "tourists_by_mun_2013.head()"
   ]
  },
  {
   "cell_type": "code",
   "execution_count": 12,
   "id": "372b6653",
   "metadata": {
    "ExecuteTime": {
     "end_time": "2023-03-19T11:25:06.355266Z",
     "start_time": "2023-03-19T11:25:06.208320Z"
    }
   },
   "outputs": [],
   "source": [
    " tourists_by_mun_2013.to_csv(fr'C:\\Users\\Ivan\\Desktop\\tourism_analysis\\data\\cleaned_data\\final_data_municipality\\tourists_by_municipality_2013.csv', index=False)"
   ]
  },
  {
   "cell_type": "markdown",
   "id": "aa703a51",
   "metadata": {},
   "source": [
    "<h3>Table 3: Tourists by Country</h3>"
   ]
  },
  {
   "cell_type": "code",
   "execution_count": 7,
   "id": "175ecae3",
   "metadata": {
    "ExecuteTime": {
     "end_time": "2023-03-18T14:38:29.126118Z",
     "start_time": "2023-03-18T14:38:29.097543Z"
    }
   },
   "outputs": [],
   "source": [
    "df = pd.read_excel(path, sheet_name='Sheet4', header=3)    "
   ]
  },
  {
   "cell_type": "code",
   "execution_count": 8,
   "id": "8e8e3b41",
   "metadata": {
    "ExecuteTime": {
     "end_time": "2023-03-18T14:38:29.781555Z",
     "start_time": "2023-03-18T14:38:29.759897Z"
    }
   },
   "outputs": [],
   "source": [
    "df.rename(columns={\n",
    "    df.columns[0]: 'zemlja_porijekla', \n",
    "    df.columns[1]: 'dolasci',\n",
    "    df.columns[3]:'nocenja',},\n",
    "    inplace= True)\n",
    "    \n",
    "df.drop(columns=[df.columns[2], df.columns[4]],\n",
    "        inplace=True)\n",
    "    \n",
    "filt = (~df['zemlja_porijekla'].isin(['Strani turisti', 'Evropa', 'Vanevropske zemlje']))\n",
    "df = df[filt]\n",
    "df = df.reset_index(drop=True)\n",
    "df[['dolasci', 'nocenja']] = df[['dolasci', 'nocenja']].applymap(lambda x: x.replace(' ', '') if type(x)==str else x).astype('int')"
   ]
  },
  {
   "cell_type": "code",
   "execution_count": 9,
   "id": "19f36c9d",
   "metadata": {
    "ExecuteTime": {
     "end_time": "2023-03-18T14:38:30.719413Z",
     "start_time": "2023-03-18T14:38:30.701999Z"
    }
   },
   "outputs": [
    {
     "data": {
      "text/html": [
       "<div>\n",
       "<style scoped>\n",
       "    .dataframe tbody tr th:only-of-type {\n",
       "        vertical-align: middle;\n",
       "    }\n",
       "\n",
       "    .dataframe tbody tr th {\n",
       "        vertical-align: top;\n",
       "    }\n",
       "\n",
       "    .dataframe thead th {\n",
       "        text-align: right;\n",
       "    }\n",
       "</style>\n",
       "<table border=\"1\" class=\"dataframe\">\n",
       "  <thead>\n",
       "    <tr style=\"text-align: right;\">\n",
       "      <th></th>\n",
       "      <th>zemlja_porijekla</th>\n",
       "      <th>dolasci</th>\n",
       "      <th>nocenja</th>\n",
       "    </tr>\n",
       "  </thead>\n",
       "  <tbody>\n",
       "    <tr>\n",
       "      <th>0</th>\n",
       "      <td>Albanija</td>\n",
       "      <td>25971</td>\n",
       "      <td>104310</td>\n",
       "    </tr>\n",
       "    <tr>\n",
       "      <th>1</th>\n",
       "      <td>Austrija</td>\n",
       "      <td>16889</td>\n",
       "      <td>75394</td>\n",
       "    </tr>\n",
       "    <tr>\n",
       "      <th>2</th>\n",
       "      <td>Belgija</td>\n",
       "      <td>8169</td>\n",
       "      <td>39252</td>\n",
       "    </tr>\n",
       "    <tr>\n",
       "      <th>3</th>\n",
       "      <td>Bjelorusija</td>\n",
       "      <td>20734</td>\n",
       "      <td>135989</td>\n",
       "    </tr>\n",
       "    <tr>\n",
       "      <th>4</th>\n",
       "      <td>Bosna i Hercegovina</td>\n",
       "      <td>91453</td>\n",
       "      <td>631588</td>\n",
       "    </tr>\n",
       "  </tbody>\n",
       "</table>\n",
       "</div>"
      ],
      "text/plain": [
       "      zemlja_porijekla  dolasci  nocenja\n",
       "0             Albanija    25971   104310\n",
       "1             Austrija    16889    75394\n",
       "2              Belgija     8169    39252\n",
       "3          Bjelorusija    20734   135989\n",
       "4  Bosna i Hercegovina    91453   631588"
      ]
     },
     "execution_count": 9,
     "metadata": {},
     "output_type": "execute_result"
    }
   ],
   "source": [
    "tourists_by_country_2013 = df.copy()\n",
    "tourists_by_country_2013.head()"
   ]
  },
  {
   "cell_type": "code",
   "execution_count": 11,
   "id": "a5f1e455",
   "metadata": {
    "ExecuteTime": {
     "end_time": "2023-03-19T11:02:34.997421Z",
     "start_time": "2023-03-19T11:02:34.609220Z"
    }
   },
   "outputs": [],
   "source": [
    "tourists_by_country_2013.to_csv('C:/Users/Ivan/Desktop/tourism_analysis/data/cleaned_data/final_data_country/tourists_by_country_2013.csv')"
   ]
  },
  {
   "cell_type": "code",
   "execution_count": null,
   "id": "bb20b893",
   "metadata": {},
   "outputs": [],
   "source": []
  }
 ],
 "metadata": {
  "kernelspec": {
   "display_name": "Python 3 (ipykernel)",
   "language": "python",
   "name": "python3"
  },
  "language_info": {
   "codemirror_mode": {
    "name": "ipython",
    "version": 3
   },
   "file_extension": ".py",
   "mimetype": "text/x-python",
   "name": "python",
   "nbconvert_exporter": "python",
   "pygments_lexer": "ipython3",
   "version": "3.11.0"
  },
  "varInspector": {
   "cols": {
    "lenName": 16,
    "lenType": 16,
    "lenVar": 40
   },
   "kernels_config": {
    "python": {
     "delete_cmd_postfix": "",
     "delete_cmd_prefix": "del ",
     "library": "var_list.py",
     "varRefreshCmd": "print(var_dic_list())"
    },
    "r": {
     "delete_cmd_postfix": ") ",
     "delete_cmd_prefix": "rm(",
     "library": "var_list.r",
     "varRefreshCmd": "cat(var_dic_list()) "
    }
   },
   "types_to_exclude": [
    "module",
    "function",
    "builtin_function_or_method",
    "instance",
    "_Feature"
   ],
   "window_display": false
  }
 },
 "nbformat": 4,
 "nbformat_minor": 5
}
