{
 "cells": [
  {
   "cell_type": "code",
   "execution_count": 1,
   "id": "7a5566c3",
   "metadata": {
    "ExecuteTime": {
     "end_time": "2023-03-30T11:38:31.141126Z",
     "start_time": "2023-03-30T11:38:30.311145Z"
    }
   },
   "outputs": [],
   "source": [
    "import pandas as pd\n",
    "import numpy as np\n",
    "import pymysql"
   ]
  },
  {
   "cell_type": "markdown",
   "id": "cbb13b00",
   "metadata": {},
   "source": [
    "<h1 align='center'>Implementing Data to MySQL Database</h1>"
   ]
  },
  {
   "cell_type": "markdown",
   "id": "d1fef7e1",
   "metadata": {},
   "source": [
    "<h2>Overview:</h2><br>\n",
    "\n",
    "This Jupyter notebook contains Python code for implementing data to a MySQL database. The code includes functions for establishing a connection to the database, creating tables, and inserting data into the tables. The notebook is specific to a tourism analysis project and includes tables for storing data on countries, municipalities and accommodation. The code reads in cleaned data from CSV files and inserts it into the appropriate tables."
   ]
  },
  {
   "cell_type": "code",
   "execution_count": 2,
   "id": "d0a667ed",
   "metadata": {
    "ExecuteTime": {
     "end_time": "2023-03-30T11:38:31.498211Z",
     "start_time": "2023-03-30T11:38:31.481254Z"
    }
   },
   "outputs": [],
   "source": [
    "def initiate_connection():\n",
    "    try:\n",
    "        connection = pymysql.connect(\n",
    "            host='127.0.0.1',\n",
    "            port=3306,\n",
    "            user='root',\n",
    "            passwd='########',\n",
    "            db='tourism_analysis_mne',\n",
    "        )\n",
    "        print('Connection was succesfull!')\n",
    "    except Exception as e:\n",
    "        print('Connection was not succesfull!')\n",
    "        connection = None\n",
    "    return connection"
   ]
  },
  {
   "cell_type": "code",
   "execution_count": 3,
   "id": "e1f4a3e1",
   "metadata": {
    "ExecuteTime": {
     "end_time": "2023-03-30T11:38:32.273003Z",
     "start_time": "2023-03-30T11:38:32.114151Z"
    }
   },
   "outputs": [
    {
     "name": "stdout",
     "output_type": "stream",
     "text": [
      "Connection was succesfull!\n"
     ]
    }
   ],
   "source": [
    "connection = initiate_connection()\n",
    "cursor=connection.cursor()"
   ]
  },
  {
   "cell_type": "markdown",
   "id": "ee264efa",
   "metadata": {},
   "source": [
    "<h3>1. Implementing the country and tourists_by_country tables and populating them with data in the database</h3>"
   ]
  },
  {
   "cell_type": "code",
   "execution_count": 4,
   "id": "ac228064",
   "metadata": {
    "ExecuteTime": {
     "end_time": "2023-03-30T11:38:34.885202Z",
     "start_time": "2023-03-30T11:38:34.874752Z"
    }
   },
   "outputs": [],
   "source": [
    "def create_tables(sql_query):\n",
    "    cursor.execute(sql_query)\n",
    "    connection.commit()"
   ]
  },
  {
   "cell_type": "code",
   "execution_count": 5,
   "id": "308abaef",
   "metadata": {
    "ExecuteTime": {
     "end_time": "2023-03-30T11:38:46.271081Z",
     "start_time": "2023-03-30T11:38:46.181193Z"
    }
   },
   "outputs": [],
   "source": [
    "sql_query_country = f'''CREATE TABLE IF NOT EXISTS country(\n",
    "        id INT PRIMARY KEY AUTO_INCREMENT,\n",
    "        name VARCHAR(255) UNIQUE);'''\n",
    "create_tables(sql_query_country)"
   ]
  },
  {
   "cell_type": "code",
   "execution_count": 6,
   "id": "039d3d6d",
   "metadata": {
    "ExecuteTime": {
     "end_time": "2023-03-30T11:47:00.750397Z",
     "start_time": "2023-03-30T11:47:00.732022Z"
    }
   },
   "outputs": [],
   "source": [
    "serbian_to_english = {'Albanija': 'Albania',\n",
    "                     'Austrija': 'Austria',\n",
    "                     'Belgija': 'Belgium',\n",
    "                     'Bjelorusija': 'Belarus',\n",
    "                     'Bosna i Hercegovina': 'Bosnia and Herzegovina',\n",
    "                     'Bugarska': 'Bulgaria',\n",
    "                     'Češka Republika': 'Czech Republic',\n",
    "                     'Danska': 'Denmark',\n",
    "                     'Estonija': 'Estonia',\n",
    "                     'Finska': 'Finland',\n",
    "                     'Francuska': 'France',\n",
    "                     'Grčka': 'Greece',\n",
    "                     'Holandija': 'Netherlands',\n",
    "                     'Hrvatska': 'Croatia',\n",
    "                     'Irska': 'Ireland',\n",
    "                     'Island': 'Iceland',\n",
    "                     'Italija': 'Italy',\n",
    "                     'Kosovo': 'Kosovo',\n",
    "                     'Letonija': 'Latvia',\n",
    "                     'Litvanija': 'Lithuania',\n",
    "                     'Luksemburg': 'Luxembourg',\n",
    "                     'Mađarska': 'Hungary',\n",
    "                     'Republika Sjeverna Makedonija': 'North Macedonia',\n",
    "                     'Norveška': 'Norway',\n",
    "                     'Njemačka': 'Germany',\n",
    "                     'Poljska': 'Poland',\n",
    "                     'Portugalija': 'Portugal',\n",
    "                     'Rumunija': 'Romania',\n",
    "                     'Rusija': 'Russia',\n",
    "                     'Slovačka': 'Slovakia',\n",
    "                     'Slovenija': 'Slovenia',\n",
    "                     'Srbija': 'Serbia',\n",
    "                     'Švajcarska': 'Switzerland',\n",
    "                     'Švedska': 'Sweden',\n",
    "                     'Španija': 'Spain',\n",
    "                     'Turska': 'Turkey',\n",
    "                     'Ukrajina': 'Ukraine',\n",
    "                     'Ujedinjeno Kraljevstvo': 'United Kingdom',\n",
    "                     'Ostale evropske zemlje': 'Other European countries',\n",
    "                     'Australija': 'Australia',\n",
    "                     'Izrael': 'Israel',\n",
    "                     'Japan': 'Japan',\n",
    "                     'Kanada': 'Canada',\n",
    "                     'Novi Zeland': 'New Zealand',\n",
    "                     'Sjedinjene Američke Države': 'United States of America',\n",
    "                     'Ostale vanevropske zemlje': 'Other non-European countries',\n",
    "                     'Kipar': 'Cyprus',\n",
    "                     'Malta': 'Malta',\n",
    "                     'Južna Afrika': 'South Africa',\n",
    "                     'Ostale afričke zemlje': 'Other African countries',\n",
    "                     'Ostale zemlje Sjeverne Amerike': 'Other North American countries',\n",
    "                     'Argentina': 'Argentina',\n",
    "                     'Brazil': 'Brazil',\n",
    "                     'Čile': 'Chile',\n",
    "                     'Ostale zemlje Južne i Srednje Amerike': 'Other South and Central American countries',\n",
    "                     'Kina': 'China',\n",
    "                     'Indija': 'India',\n",
    "                     'Azerbejdžan': 'Azerbaijan',\n",
    "                     'Ostale azijske zemlje': 'Other Asian countries',\n",
    "                     'Koreja, Republika (Južna Koreja)': 'South Korea',\n",
    "                     'Ostale azijske zemlje': 'Other Asian Countries',\n",
    "                     'Ostale zemlje Okeanije': 'Other Oceanian Countries',\n",
    "                     'Ujedinjeni Arapski Emirati': 'United Arab Emirates'\n",
    "                    \n",
    "\n",
    "} "
   ]
  },
  {
   "cell_type": "code",
   "execution_count": 7,
   "id": "99df90bb",
   "metadata": {
    "ExecuteTime": {
     "end_time": "2023-03-30T11:47:04.632813Z",
     "start_time": "2023-03-30T11:47:04.627316Z"
    }
   },
   "outputs": [],
   "source": [
    "clean_country_name = {'Češka': 'Češka Republika','Makedonija': 'Republika Sjeverna Makedonija', 'Ruska Federacija': 'Rusija',\n",
    "                     'Srbija (bez Kosova)': 'Srbija','Švajcarska uključujući Lihtenštajn': 'Švajcarska',\n",
    "                     'SAD': 'Sjedinjene Američke Države','Velika Britanija': 'Ujedinjeno Kraljevstvo', 'Švajcarska (uključujući Lihtenštajn)': 'Švajcarska',\n",
    "                     'Kina (uključujući Hong Kong)': 'Kina', 'Koreja, Republika': 'Koreja, Republika (Južna Koreja)'}"
   ]
  },
  {
   "cell_type": "code",
   "execution_count": 8,
   "id": "f4c88966",
   "metadata": {
    "ExecuteTime": {
     "end_time": "2023-03-30T11:48:17.547548Z",
     "start_time": "2023-03-30T11:48:17.529190Z"
    }
   },
   "outputs": [],
   "source": [
    "def clean_country(country_name):\n",
    "    if country_name in clean_country_name.keys():\n",
    "        country_name = clean_country_name[country_name]\n",
    "        return serbian_to_english[country_name]\n",
    "    else:\n",
    "        return serbian_to_english[country_name]"
   ]
  },
  {
   "cell_type": "code",
   "execution_count": 13,
   "id": "df85db57",
   "metadata": {
    "ExecuteTime": {
     "end_time": "2023-03-30T17:24:23.739688Z",
     "start_time": "2023-03-30T17:24:21.363139Z"
    }
   },
   "outputs": [],
   "source": [
    "def insert_data_to_country():\n",
    "    help_list = []\n",
    "    for year in range(2012, 2023):\n",
    "        df = pd.read_csv(fr'C:\\Users\\Ivan\\Desktop\\tourism_analysis\\data\\cleaned_data\\final_data_country\\tourists_by_country_{year}.csv')\n",
    "        for index, row in df.iterrows():\n",
    "            country_name = row['zemlja_porijekla'].strip()\n",
    "            country_name = clean_country(country_name)\n",
    "            if country_name not in help_list:\n",
    "                help_list.append(country_name)\n",
    "                try:\n",
    "                    sql_insert = f\"INSERT INTO country(`name`) VALUES('{country_name}');\"\n",
    "                    cursor.execute(sql_insert)\n",
    "                    connection.commit()\n",
    "                except Exception as e:\n",
    "                    continue\n",
    "insert_data_to_country()"
   ]
  },
  {
   "cell_type": "code",
   "execution_count": 10,
   "id": "582013be",
   "metadata": {
    "ExecuteTime": {
     "end_time": "2023-03-30T11:49:00.416006Z",
     "start_time": "2023-03-30T11:49:00.225182Z"
    }
   },
   "outputs": [],
   "source": [
    "sql_create_table = f'''CREATE TABLE tourists_by_country(\n",
    "        id INT PRIMARY KEY AUTO_INCREMENT,\n",
    "        year INT,\n",
    "        country_id INT,\n",
    "        arrivals INT,\n",
    "        nights INT,\n",
    "        FOREIGN KEY (country_id) REFERENCES country(id))'''\n",
    "create_tables(sql_create_table)"
   ]
  },
  {
   "cell_type": "code",
   "execution_count": 11,
   "id": "96014367",
   "metadata": {
    "ExecuteTime": {
     "end_time": "2023-03-30T11:49:12.496504Z",
     "start_time": "2023-03-30T11:49:09.375495Z"
    }
   },
   "outputs": [],
   "source": [
    "def insert_data_into_tourists_country():\n",
    "    for year in range(2012, 2023):\n",
    "        df = pd.read_csv(fr'C:\\Users\\Ivan\\Desktop\\tourism_analysis\\data\\cleaned_data\\final_data_country\\tourists_by_country_{year}.csv')\n",
    "        for index, row in df.iterrows():\n",
    "            country_name = row['zemlja_porijekla'].strip()\n",
    "            country_name = clean_country(country_name)\n",
    "            try:\n",
    "                sql_insert = f'''INSERT INTO tourists_by_country(`year`, `country_id`, `arrivals`, `nights`)\n",
    "                VALUES({year},\n",
    "                (SELECT id FROM country where name = \"{country_name}\"),\n",
    "                {row[\"dolasci\"]},\n",
    "                {row[\"nocenja\"]});'''\n",
    "                cursor.execute(sql_insert)\n",
    "                connection.commit()\n",
    "            except Exception as e:\n",
    "                print('Mistake has been made')\n",
    "insert_data_into_tourists_country()"
   ]
  },
  {
   "cell_type": "markdown",
   "id": "eefda770",
   "metadata": {},
   "source": [
    "<h3>2. Implementing the municipality and tourists_by_municipality tables and populating them with data in the database</h3>"
   ]
  },
  {
   "cell_type": "code",
   "execution_count": 14,
   "id": "7437dbc2",
   "metadata": {
    "ExecuteTime": {
     "end_time": "2023-03-30T17:24:38.951976Z",
     "start_time": "2023-03-30T17:24:36.004390Z"
    }
   },
   "outputs": [],
   "source": [
    "sql_query = f'''CREATE TABLE IF NOT EXISTS municipality (\n",
    "                id INT PRIMARY KEY AUTO_INCREMENT,\n",
    "                name VARCHAR(255) UNIQUE\n",
    ");'''\n",
    "create_tables(sql_query)"
   ]
  },
  {
   "cell_type": "code",
   "execution_count": 15,
   "id": "58a56c67",
   "metadata": {
    "ExecuteTime": {
     "end_time": "2023-03-30T17:24:47.141810Z",
     "start_time": "2023-03-30T17:24:46.132014Z"
    }
   },
   "outputs": [],
   "source": [
    "def insert_data_to_municipality():\n",
    "    help_list = []\n",
    "    for year in range(2012, 2023):\n",
    "        df = pd.read_csv(fr'C:\\Users\\Ivan\\Desktop\\tourism_analysis\\data\\cleaned_data\\final_data_municipality\\tourists_by_municipality_{year}.csv')\n",
    "        for index, row in df.iterrows():\n",
    "            mun_name = row['opstina'].strip()\n",
    "            if mun_name not in help_list:\n",
    "                help_list.append(mun_name)\n",
    "                try:\n",
    "                    sql_insert = f\"INSERT INTO municipality(`name`) VALUES('{mun_name}');\"\n",
    "                    cursor.execute(sql_insert)\n",
    "                    connection.commit()\n",
    "                except Exception as e:\n",
    "                    continue\n",
    "insert_data_to_municipality()"
   ]
  },
  {
   "cell_type": "code",
   "execution_count": 16,
   "id": "c3da5ddd",
   "metadata": {
    "ExecuteTime": {
     "end_time": "2023-03-30T17:24:50.642484Z",
     "start_time": "2023-03-30T17:24:50.223793Z"
    }
   },
   "outputs": [],
   "source": [
    "sql_query = f'''\n",
    "    CREATE TABLE tourists_by_municipality (\n",
    "        id INT PRIMARY KEY AUTO_INCREMENT,\n",
    "        year INT,\n",
    "        municipality_id INT,\n",
    "        arrivals_foreign INT,\n",
    "        arrivals_domestic INT,\n",
    "        nights_foreign INT,\n",
    "        nights_domestic INT,\n",
    "        FOREIGN KEY (municipality_id) REFERENCES municipality(id)\n",
    ");\n",
    "'''\n",
    "create_tables(sql_query)"
   ]
  },
  {
   "cell_type": "code",
   "execution_count": 17,
   "id": "69755750",
   "metadata": {
    "ExecuteTime": {
     "end_time": "2023-03-30T17:24:57.463101Z",
     "start_time": "2023-03-30T17:24:55.627276Z"
    }
   },
   "outputs": [],
   "source": [
    "def insert_data_into_tourists_mun():\n",
    "    for year in range(2012, 2023):\n",
    "        df = pd.read_csv(fr'C:\\Users\\Ivan\\Desktop\\tourism_analysis\\data\\cleaned_data\\final_data_municipality\\tourists_by_municipality_{year}.csv')\n",
    "        for index, row in df.iterrows():\n",
    "            mun_name = row['opstina'].strip()\n",
    "            try:\n",
    "                sql_insert = f'''INSERT INTO tourists_by_municipality(`year`, `municipality_id`, \n",
    "                                `arrivals_foreign`, `arrivals_domestic`, `nights_foreign`,`nights_domestic`)\n",
    "                                VALUES(\n",
    "                                        {year},\n",
    "                                        (SELECT id FROM municipality where name = \"{mun_name}\"),\n",
    "                                        {row[\"dolasci_stranih_turista\"]},\n",
    "                                        {row[\"dolasci_domacih_turista\"]},\n",
    "                                        {row[\"nocenje_stranih_turista\"]},\n",
    "                                        {row[\"nocenje_domacih_turista\"]}\n",
    "                                        );'''\n",
    "                cursor.execute(sql_insert)\n",
    "                connection.commit()\n",
    "            except Exception as e:\n",
    "                print(year, row)\n",
    "insert_data_into_tourists_mun()"
   ]
  },
  {
   "cell_type": "markdown",
   "id": "eb314d33",
   "metadata": {},
   "source": [
    "<h3>3. Implementing the accommodation and tourists_by_accommodation tables and populating them with data in the database</h3>"
   ]
  },
  {
   "cell_type": "code",
   "execution_count": 18,
   "id": "65ad297c",
   "metadata": {
    "ExecuteTime": {
     "end_time": "2023-03-30T19:33:05.338081Z",
     "start_time": "2023-03-30T19:33:02.878217Z"
    }
   },
   "outputs": [],
   "source": [
    "sql_query = f'''\n",
    "    CREATE TABLE accommodation (\n",
    "      id INT PRIMARY KEY AUTO_INCREMENT,\n",
    "      type VARCHAR(255) UNIQUE\n",
    ");\n",
    "'''\n",
    "create_tables(sql_query)"
   ]
  },
  {
   "cell_type": "code",
   "execution_count": 25,
   "id": "c47d5f7c",
   "metadata": {
    "ExecuteTime": {
     "end_time": "2023-03-30T19:40:43.581667Z",
     "start_time": "2023-03-30T19:40:42.924317Z"
    }
   },
   "outputs": [],
   "source": [
    "clean_accommodation = {'Apart hoteli': 'Apart hotel', 'Gostionice': 'Gostionica', 'Gostionica i pansion': 'Gostionica',\n",
    "                      'Hoteli': 'Hotel', 'Kampovi': 'Kamp', 'Lječilišta': 'Lječilište', 'Moteli': 'Motel',\n",
    "                      'Odmarališta': 'Odmaralište', 'Odmaralište i lječilište': 'Odmaralište',\n",
    "                      'Pansioni': 'Pansion', 'Pansion i vila': 'Pansion', 'Prenoćišta (hosteli)': 'Hostel',\n",
    "                      'Turistička naselja':'Turističko naselje'}"
   ]
  },
  {
   "cell_type": "code",
   "execution_count": 27,
   "id": "89d6e607",
   "metadata": {
    "ExecuteTime": {
     "end_time": "2023-03-30T19:41:57.071004Z",
     "start_time": "2023-03-30T19:41:57.061883Z"
    }
   },
   "outputs": [],
   "source": [
    "def clean_name(name):\n",
    "    if name in clean_accommodation.keys():\n",
    "        return clean_accommodation[name]\n",
    "    else:\n",
    "        return name\n",
    "    "
   ]
  },
  {
   "cell_type": "code",
   "execution_count": 28,
   "id": "d8bdff48",
   "metadata": {
    "ExecuteTime": {
     "end_time": "2023-03-30T19:42:37.205896Z",
     "start_time": "2023-03-30T19:42:36.882341Z"
    }
   },
   "outputs": [],
   "source": [
    "def insert_data_to_accomodation():\n",
    "    help_list = []\n",
    "    for year in range(2012, 2023):\n",
    "        df = pd.read_csv(fr'C:\\Users\\Ivan\\Desktop\\tourism_analysis\\data\\cleaned_data\\final_data_accomodation\\tourists_by_accomodation_{year}.csv')\n",
    "        for index, row in df.iterrows():\n",
    "            acc_name = clean_name(row['tip_smjestaja'].strip())\n",
    "            if acc_name not in help_list:\n",
    "                help_list.append(acc_name)\n",
    "                try:\n",
    "                    sql_insert = f\"INSERT INTO accommodation(`type`) VALUES('{acc_name}');\"\n",
    "                    cursor.execute(sql_insert)\n",
    "                    connection.commit()\n",
    "                except Exception as e:\n",
    "                    print(row)\n",
    "                    continue\n",
    "insert_data_to_accomodation()"
   ]
  },
  {
   "cell_type": "code",
   "execution_count": 29,
   "id": "07d4a34b",
   "metadata": {
    "ExecuteTime": {
     "end_time": "2023-03-30T19:43:45.557806Z",
     "start_time": "2023-03-30T19:43:45.144828Z"
    }
   },
   "outputs": [],
   "source": [
    "sql_query = f'''\n",
    "  CREATE TABLE tourists_by_accommodation (\n",
    "  id INT PRIMARY KEY AUTO_INCREMENT,\n",
    "  year INT,\n",
    "  accommodation_id INT,\n",
    "  arrivals_foreign INT,\n",
    "  arrivals_domestic INT,\n",
    "  nights_foreign INT,\n",
    "  nights_domestic INT,\n",
    "  FOREIGN KEY (accommodation_id) REFERENCES accommodation(id)\n",
    ");\n",
    "'''\n",
    "create_tables(sql_query)"
   ]
  },
  {
   "cell_type": "code",
   "execution_count": 30,
   "id": "ac5566fc",
   "metadata": {
    "ExecuteTime": {
     "end_time": "2023-03-30T19:43:50.660547Z",
     "start_time": "2023-03-30T19:43:49.472762Z"
    }
   },
   "outputs": [],
   "source": [
    "def insert_data_to_tourists_accommodation():\n",
    "    for year in range(2012, 2023):\n",
    "        df = pd.read_csv(fr'C:\\Users\\Ivan\\Desktop\\tourism_analysis\\data\\cleaned_data\\final_data_accomodation\\tourists_by_accomodation_{year}.csv')\n",
    "        for index, row in df.iterrows():\n",
    "            acc_name = clean_name(row['tip_smjestaja'].strip())\n",
    "            if year == 2015 or year == 2016:\n",
    "                try:\n",
    "                    sql_insert = f'''INSERT INTO tourists_by_accommodation(`year`, \n",
    "                                    `accommodation_id`, `arrivals_foreign`, `nights_foreign`) \n",
    "                                VALUES(\n",
    "                                {year}, \n",
    "                                (SELECT id FROM accommodation where type=\"{acc_name}\"),\n",
    "                                {row[\"dolasci_turista\"]},\n",
    "                                {row[\"nocenje_turista\"]}\n",
    "                                );'''\n",
    "                    cursor.execute(sql_insert)\n",
    "                    connection.commit()\n",
    "                except Exception as e:\n",
    "                    print(year, row)\n",
    "                continue\n",
    "            else:\n",
    "                try:\n",
    "                    sql_insert = f'''INSERT INTO tourists_by_accommodation(`year`, \n",
    "                                    `accommodation_id`, `arrivals_foreign`, \n",
    "                                    `arrivals_domestic`, `nights_foreign`,`nights_domestic`) \n",
    "                                VALUES(\n",
    "                                {year}, \n",
    "                                (SELECT id FROM accommodation where type=\"{acc_name}\"),\n",
    "                                {row[\"dolasci_stranih_turista\"]},\n",
    "                                {row[\"dolasci_domacih_turista\"]},\n",
    "                                {row[\"nocenje_stranih_turista\"]},\n",
    "                                {row[\"nocenje_domacih_turista\"]}\n",
    "                                );'''\n",
    "                    cursor.execute(sql_insert)\n",
    "                    connection.commit()\n",
    "                except Exception as e:\n",
    "                    print(year, row)\n",
    "                    continue\n",
    "insert_data_to_tourists_accommodation()"
   ]
  },
  {
   "cell_type": "code",
   "execution_count": null,
   "id": "f0abfc97",
   "metadata": {},
   "outputs": [],
   "source": [
    "connection.close()"
   ]
  }
 ],
 "metadata": {
  "kernelspec": {
   "display_name": "Python 3 (ipykernel)",
   "language": "python",
   "name": "python3"
  },
  "language_info": {
   "codemirror_mode": {
    "name": "ipython",
    "version": 3
   },
   "file_extension": ".py",
   "mimetype": "text/x-python",
   "name": "python",
   "nbconvert_exporter": "python",
   "pygments_lexer": "ipython3",
   "version": "3.11.0"
  },
  "varInspector": {
   "cols": {
    "lenName": 16,
    "lenType": 16,
    "lenVar": 40
   },
   "kernels_config": {
    "python": {
     "delete_cmd_postfix": "",
     "delete_cmd_prefix": "del ",
     "library": "var_list.py",
     "varRefreshCmd": "print(var_dic_list())"
    },
    "r": {
     "delete_cmd_postfix": ") ",
     "delete_cmd_prefix": "rm(",
     "library": "var_list.r",
     "varRefreshCmd": "cat(var_dic_list()) "
    }
   },
   "types_to_exclude": [
    "module",
    "function",
    "builtin_function_or_method",
    "instance",
    "_Feature"
   ],
   "window_display": false
  }
 },
 "nbformat": 4,
 "nbformat_minor": 5
}
