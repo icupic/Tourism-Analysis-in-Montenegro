{
 "cells": [
  {
   "cell_type": "code",
   "execution_count": 1,
   "id": "72d62573",
   "metadata": {
    "ExecuteTime": {
     "end_time": "2023-03-18T14:39:01.619172Z",
     "start_time": "2023-03-18T14:39:00.766524Z"
    }
   },
   "outputs": [],
   "source": [
    "import pandas as pd\n",
    "import numpy as np"
   ]
  },
  {
   "cell_type": "markdown",
   "id": "f89c6311",
   "metadata": {},
   "source": [
    "<h1 align=\"center\">Data Wrangling: Import and Cleaning(2013)</h1>"
   ]
  },
  {
   "cell_type": "code",
   "execution_count": 2,
   "id": "3fc46231",
   "metadata": {
    "ExecuteTime": {
     "end_time": "2023-03-18T14:39:02.007842Z",
     "start_time": "2023-03-18T14:39:02.001934Z"
    }
   },
   "outputs": [],
   "source": [
    "path = r'C:\\Users\\Ivan\\Desktop\\tourism_analysis\\data\\2012\\ukupno_2012.xls'"
   ]
  },
  {
   "cell_type": "markdown",
   "id": "84807486",
   "metadata": {},
   "source": [
    "<h3>Table 1: Tourists by Accommodation Type</h3>"
   ]
  },
  {
   "cell_type": "code",
   "execution_count": 26,
   "id": "909c4975",
   "metadata": {
    "ExecuteTime": {
     "end_time": "2023-03-19T17:43:12.282291Z",
     "start_time": "2023-03-19T17:43:12.237704Z"
    }
   },
   "outputs": [],
   "source": [
    "df = pd.read_excel(path, sheet_name='Sheet3', header=7)\n",
    "\n",
    "df.rename(columns={\n",
    "    df.columns[0]: 'tip_smjestaja',\n",
    "    df.columns[1]: 'dolasci_stranih_turista',\n",
    "    df.columns[2]: 'dolasci_domacih_turista',\n",
    "    df.columns[4]: 'nocenje_stranih_turista',\n",
    "    df.columns[5]: 'nocenje_domacih_turista'},\n",
    "    inplace=True)\n",
    "#dropping unnecessary columns\n",
    "df.drop(\n",
    "columns=[\n",
    "    df.columns[3],\n",
    "    df.columns[6],\n",
    "    df.columns[7],\n",
    "],\n",
    "inplace=True)\n",
    "\n",
    "df= df[~df['tip_smjestaja'].isnull()]\n",
    "df = df.reset_index(drop=True)\n",
    "df = df.fillna(0)\n",
    "df = df.replace('-', 0)\n",
    "df.iloc[:, 1:] = df.iloc[:, 1:].applymap(lambda x: x.replace(' ', '') if type(x) == str else x).astype('int')"
   ]
  },
  {
   "cell_type": "code",
   "execution_count": 27,
   "id": "aa495e56",
   "metadata": {
    "ExecuteTime": {
     "end_time": "2023-03-19T17:43:14.494491Z",
     "start_time": "2023-03-19T17:43:14.472965Z"
    }
   },
   "outputs": [
    {
     "data": {
      "text/html": [
       "<div>\n",
       "<style scoped>\n",
       "    .dataframe tbody tr th:only-of-type {\n",
       "        vertical-align: middle;\n",
       "    }\n",
       "\n",
       "    .dataframe tbody tr th {\n",
       "        vertical-align: top;\n",
       "    }\n",
       "\n",
       "    .dataframe thead th {\n",
       "        text-align: right;\n",
       "    }\n",
       "</style>\n",
       "<table border=\"1\" class=\"dataframe\">\n",
       "  <thead>\n",
       "    <tr style=\"text-align: right;\">\n",
       "      <th></th>\n",
       "      <th>tip_smjestaja</th>\n",
       "      <th>dolasci_stranih_turista</th>\n",
       "      <th>dolasci_domacih_turista</th>\n",
       "      <th>nocenje_stranih_turista</th>\n",
       "      <th>nocenje_domacih_turista</th>\n",
       "    </tr>\n",
       "  </thead>\n",
       "  <tbody>\n",
       "    <tr>\n",
       "      <th>0</th>\n",
       "      <td>Hoteli</td>\n",
       "      <td>453115</td>\n",
       "      <td>70256</td>\n",
       "      <td>2058011</td>\n",
       "      <td>232478</td>\n",
       "    </tr>\n",
       "    <tr>\n",
       "      <th>1</th>\n",
       "      <td>Apart hoteli</td>\n",
       "      <td>9098</td>\n",
       "      <td>197</td>\n",
       "      <td>55140</td>\n",
       "      <td>660</td>\n",
       "    </tr>\n",
       "    <tr>\n",
       "      <th>2</th>\n",
       "      <td>Pansioni</td>\n",
       "      <td>7307</td>\n",
       "      <td>464</td>\n",
       "      <td>56223</td>\n",
       "      <td>3476</td>\n",
       "    </tr>\n",
       "    <tr>\n",
       "      <th>3</th>\n",
       "      <td>Moteli</td>\n",
       "      <td>681</td>\n",
       "      <td>627</td>\n",
       "      <td>1036</td>\n",
       "      <td>810</td>\n",
       "    </tr>\n",
       "    <tr>\n",
       "      <th>4</th>\n",
       "      <td>Turistička naselja</td>\n",
       "      <td>62819</td>\n",
       "      <td>2842</td>\n",
       "      <td>395712</td>\n",
       "      <td>13309</td>\n",
       "    </tr>\n",
       "  </tbody>\n",
       "</table>\n",
       "</div>"
      ],
      "text/plain": [
       "        tip_smjestaja dolasci_stranih_turista dolasci_domacih_turista  \\\n",
       "0              Hoteli                  453115                   70256   \n",
       "1        Apart hoteli                    9098                     197   \n",
       "2            Pansioni                    7307                     464   \n",
       "3              Moteli                     681                     627   \n",
       "4  Turistička naselja                   62819                    2842   \n",
       "\n",
       "  nocenje_stranih_turista nocenje_domacih_turista  \n",
       "0                 2058011                  232478  \n",
       "1                   55140                     660  \n",
       "2                   56223                    3476  \n",
       "3                    1036                     810  \n",
       "4                  395712                   13309  "
      ]
     },
     "execution_count": 27,
     "metadata": {},
     "output_type": "execute_result"
    }
   ],
   "source": [
    "tourists_by_acc_2012 = df.copy()\n",
    "tourists_by_acc_2012 = tourists_by_acc_2012.drop(tourists_by_acc_2012.index[13:], axis=0)\n",
    "tourists_by_acc_2012.head()"
   ]
  },
  {
   "cell_type": "code",
   "execution_count": 28,
   "id": "bcb45fe4",
   "metadata": {
    "ExecuteTime": {
     "end_time": "2023-03-19T17:43:28.688867Z",
     "start_time": "2023-03-19T17:43:28.676573Z"
    }
   },
   "outputs": [],
   "source": [
    "tourists_by_acc_2012.to_csv(fr'C:\\Users\\Ivan\\Desktop\\tourism_analysis\\data\\cleaned_data\\final_data_accomodation\\tourists_by_accomodation_2012.csv')"
   ]
  },
  {
   "cell_type": "markdown",
   "id": "5fc3f72a",
   "metadata": {},
   "source": [
    "<h3>Table 2: Tourists by Municipality</h3>"
   ]
  },
  {
   "cell_type": "code",
   "execution_count": 5,
   "id": "1fba41db",
   "metadata": {
    "ExecuteTime": {
     "end_time": "2023-03-18T14:39:51.684367Z",
     "start_time": "2023-03-18T14:39:51.643421Z"
    }
   },
   "outputs": [],
   "source": [
    "df = pd.read_excel(path, sheet_name='Sheet5', header=4)\n",
    "df.rename(columns={\n",
    "        df.columns[0]: 'opstina',\n",
    "        df.columns[1]: 'dolasci_stranih_turista',\n",
    "        df.columns[2]: 'dolasci_domacih_turista',\n",
    "        df.columns[5]: 'nocenje_stranih_turista',\n",
    "        df.columns[6]: 'nocenje_domacih_turista'},\n",
    "        inplace=True\n",
    ")\n",
    "df.drop(labels=0, inplace=True)\n",
    "df.drop(columns=[df.columns[3], df.columns[4], df.columns[7], df.columns[8]],\n",
    "        inplace=True)\n",
    "df.iloc[:, 1:] = df.iloc[:, 1:].applymap(lambda x: x.replace(' ', '') if type(x)==str else x).astype('int')"
   ]
  },
  {
   "cell_type": "code",
   "execution_count": 6,
   "id": "b62dce9e",
   "metadata": {
    "ExecuteTime": {
     "end_time": "2023-03-18T14:39:52.153178Z",
     "start_time": "2023-03-18T14:39:52.133533Z"
    }
   },
   "outputs": [
    {
     "name": "stdout",
     "output_type": "stream",
     "text": [
      "<class 'pandas.core.frame.DataFrame'>\n",
      "RangeIndex: 20 entries, 1 to 20\n",
      "Data columns (total 5 columns):\n",
      " #   Column                   Non-Null Count  Dtype \n",
      "---  ------                   --------------  ----- \n",
      " 0   opstina                  20 non-null     object\n",
      " 1   dolasci_stranih_turista  20 non-null     object\n",
      " 2   dolasci_domacih_turista  20 non-null     object\n",
      " 3   nocenje_stranih_turista  20 non-null     object\n",
      " 4   nocenje_domacih_turista  20 non-null     object\n",
      "dtypes: object(5)\n",
      "memory usage: 932.0+ bytes\n"
     ]
    }
   ],
   "source": [
    "tourists_by_mun_2012 = df.copy()\n",
    "tourists_by_mun_2012.info()"
   ]
  },
  {
   "cell_type": "code",
   "execution_count": 13,
   "id": "65123f77",
   "metadata": {
    "ExecuteTime": {
     "end_time": "2023-03-19T11:25:31.074586Z",
     "start_time": "2023-03-19T11:25:31.059009Z"
    }
   },
   "outputs": [],
   "source": [
    " tourists_by_mun_2012.to_csv(fr'C:\\Users\\Ivan\\Desktop\\tourism_analysis\\data\\cleaned_data\\final_data_municipality\\tourists_by_municipality_2012.csv', index=False)"
   ]
  },
  {
   "cell_type": "markdown",
   "id": "aa703a51",
   "metadata": {},
   "source": [
    "<h3>Table 3: Tourists by Country</h3>"
   ]
  },
  {
   "cell_type": "code",
   "execution_count": 7,
   "id": "175ecae3",
   "metadata": {
    "ExecuteTime": {
     "end_time": "2023-03-18T14:39:53.018324Z",
     "start_time": "2023-03-18T14:39:52.991392Z"
    }
   },
   "outputs": [],
   "source": [
    "df = pd.read_excel(path, sheet_name='Sheet4', header=3)    "
   ]
  },
  {
   "cell_type": "code",
   "execution_count": 8,
   "id": "8e8e3b41",
   "metadata": {
    "ExecuteTime": {
     "end_time": "2023-03-18T14:39:53.428325Z",
     "start_time": "2023-03-18T14:39:53.404789Z"
    }
   },
   "outputs": [],
   "source": [
    "df.rename(columns={\n",
    "    df.columns[0]: 'zemlja_porijekla', \n",
    "    df.columns[1]: 'dolasci',\n",
    "    df.columns[3]:'nocenja',},\n",
    "    inplace= True)\n",
    "    \n",
    "df.drop(columns=[df.columns[2], df.columns[4]],\n",
    "        inplace=True)\n",
    "    \n",
    "filt = (~df['zemlja_porijekla'].isin(['Strani turisti', 'Evropa', 'Vanevropske zemlje']))\n",
    "df = df[filt]\n",
    "df = df.reset_index(drop=True)\n",
    "df[['dolasci', 'nocenja']] = df[['dolasci', 'nocenja']].applymap(lambda x: x.replace(' ', '') if type(x)==str else x).astype('int')"
   ]
  },
  {
   "cell_type": "code",
   "execution_count": 15,
   "id": "19f36c9d",
   "metadata": {
    "ExecuteTime": {
     "end_time": "2023-03-19T13:21:18.287944Z",
     "start_time": "2023-03-19T13:21:18.196127Z"
    }
   },
   "outputs": [
    {
     "data": {
      "text/plain": [
       "1264163"
      ]
     },
     "execution_count": 15,
     "metadata": {},
     "output_type": "execute_result"
    }
   ],
   "source": [
    "tourists_by_country_2012 = df.copy()\n",
    "tourists_by_country_2012['dolasci'].sum()"
   ]
  },
  {
   "cell_type": "code",
   "execution_count": 11,
   "id": "55c9f19b",
   "metadata": {
    "ExecuteTime": {
     "end_time": "2023-03-19T11:02:37.823636Z",
     "start_time": "2023-03-19T11:02:37.776056Z"
    }
   },
   "outputs": [],
   "source": [
    "tourists_by_country_2012.to_csv('C:/Users/Ivan/Desktop/tourism_analysis/data/cleaned_data/final_data_country/tourists_by_country_2012.csv')"
   ]
  },
  {
   "cell_type": "code",
   "execution_count": null,
   "id": "51da3306",
   "metadata": {},
   "outputs": [],
   "source": []
  }
 ],
 "metadata": {
  "kernelspec": {
   "display_name": "Python 3 (ipykernel)",
   "language": "python",
   "name": "python3"
  },
  "language_info": {
   "codemirror_mode": {
    "name": "ipython",
    "version": 3
   },
   "file_extension": ".py",
   "mimetype": "text/x-python",
   "name": "python",
   "nbconvert_exporter": "python",
   "pygments_lexer": "ipython3",
   "version": "3.11.0"
  },
  "varInspector": {
   "cols": {
    "lenName": 16,
    "lenType": 16,
    "lenVar": 40
   },
   "kernels_config": {
    "python": {
     "delete_cmd_postfix": "",
     "delete_cmd_prefix": "del ",
     "library": "var_list.py",
     "varRefreshCmd": "print(var_dic_list())"
    },
    "r": {
     "delete_cmd_postfix": ") ",
     "delete_cmd_prefix": "rm(",
     "library": "var_list.r",
     "varRefreshCmd": "cat(var_dic_list()) "
    }
   },
   "types_to_exclude": [
    "module",
    "function",
    "builtin_function_or_method",
    "instance",
    "_Feature"
   ],
   "window_display": false
  }
 },
 "nbformat": 4,
 "nbformat_minor": 5
}
