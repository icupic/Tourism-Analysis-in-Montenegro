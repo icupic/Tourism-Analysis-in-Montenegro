{
 "cells": [
  {
   "cell_type": "code",
   "execution_count": 1,
   "id": "72d62573",
   "metadata": {
    "ExecuteTime": {
     "end_time": "2023-03-18T14:37:33.125898Z",
     "start_time": "2023-03-18T14:37:32.230177Z"
    }
   },
   "outputs": [],
   "source": [
    "import pandas as pd\n",
    "import numpy as np"
   ]
  },
  {
   "cell_type": "markdown",
   "id": "ed2435d1",
   "metadata": {},
   "source": [
    "<h1 align=\"center\">Data Wrangling: Import and Cleaning(2014)</h1>"
   ]
  },
  {
   "cell_type": "code",
   "execution_count": 2,
   "id": "8b3efed3",
   "metadata": {
    "ExecuteTime": {
     "end_time": "2023-03-18T14:37:33.218740Z",
     "start_time": "2023-03-18T14:37:33.211070Z"
    }
   },
   "outputs": [],
   "source": [
    "path = r'C:\\Users\\Ivan\\Desktop\\tourism_analysis\\data\\2014\\ukupno_2014.xls'"
   ]
  },
  {
   "cell_type": "markdown",
   "id": "fa4bd029",
   "metadata": {},
   "source": [
    "<h3>Table 1: Tourists by Accommodation Type</h3>"
   ]
  },
  {
   "cell_type": "code",
   "execution_count": 17,
   "id": "958076d6",
   "metadata": {
    "ExecuteTime": {
     "end_time": "2023-03-19T17:28:04.407761Z",
     "start_time": "2023-03-19T17:28:04.362829Z"
    }
   },
   "outputs": [
    {
     "name": "stderr",
     "output_type": "stream",
     "text": [
      "C:\\Users\\Ivan\\AppData\\Local\\Temp\\ipykernel_12136\\91822675.py:23: FutureWarning: In a future version, `df.iloc[:, i] = newvals` will attempt to set the values inplace instead of always setting a new array. To retain the old behavior, use either `df[df.columns[i]] = newvals` or, if columns are non-unique, `df.isetitem(i, newvals)`\n",
      "  df.iloc[:, 1:] = df.iloc[:, 1:].apply(lambda x: x.astype('int') if x.dtype == 'float' else x)\n"
     ]
    }
   ],
   "source": [
    "df = pd.read_excel(path, sheet_name='Sheet3', header=6)\n",
    "\n",
    "df.rename(columns={\n",
    "    df.columns[0]: 'tip_smjestaja',\n",
    "    df.columns[1]: 'dolasci_stranih_turista',\n",
    "    df.columns[2]: 'dolasci_domacih_turista',\n",
    "    df.columns[4]: 'nocenje_stranih_turista',\n",
    "    df.columns[5]: 'nocenje_domacih_turista'},\n",
    "    inplace=True)\n",
    "#dropping unnecessary columns\n",
    "df.drop(\n",
    "columns=[\n",
    "    df.columns[3],\n",
    "    df.columns[6],\n",
    "    df.columns[7],\n",
    "],\n",
    "inplace=True)\n",
    "\n",
    "df= df[~df['tip_smjestaja'].isnull()]\n",
    "df = df.reset_index(drop=True)\n",
    "df = df.fillna(0)\n",
    "df = df.replace('-', 0)\n",
    "df.iloc[:, 1:] = df.iloc[:, 1:].apply(lambda x: x.astype('int') if x.dtype == 'float' else x)"
   ]
  },
  {
   "cell_type": "code",
   "execution_count": 27,
   "id": "081ca363",
   "metadata": {
    "ExecuteTime": {
     "end_time": "2023-03-19T17:33:10.255361Z",
     "start_time": "2023-03-19T17:33:10.243299Z"
    }
   },
   "outputs": [],
   "source": [
    "tourists_by_acc_2014 = df.copy()\n",
    "tourists_by_acc_2014 = tourists_by_acc_2014.drop(tourists_by_acc_2014.index[17:], axis=0)"
   ]
  },
  {
   "cell_type": "code",
   "execution_count": 29,
   "id": "8cb341ae",
   "metadata": {
    "ExecuteTime": {
     "end_time": "2023-03-19T17:37:52.077710Z",
     "start_time": "2023-03-19T17:37:52.063448Z"
    }
   },
   "outputs": [],
   "source": [
    "tourists_by_acc_2014.to_csv(fr'C:\\Users\\Ivan\\Desktop\\tourism_analysis\\data\\cleaned_data\\final_data_accomodation\\tourists_by_accomodation_2014.csv')"
   ]
  },
  {
   "cell_type": "markdown",
   "id": "49773072",
   "metadata": {},
   "source": [
    "<h3>Table 2: Tourists by Municipality</h3>"
   ]
  },
  {
   "cell_type": "code",
   "execution_count": 5,
   "id": "7ae56f7b",
   "metadata": {
    "ExecuteTime": {
     "end_time": "2023-03-18T14:37:36.763628Z",
     "start_time": "2023-03-18T14:37:36.730451Z"
    }
   },
   "outputs": [],
   "source": [
    "df = pd.read_excel(path, sheet_name='Sheet5', header=4)\n",
    "df.rename(columns={\n",
    "        df.columns[0]: 'opstina',\n",
    "        df.columns[1]: 'dolasci_stranih_turista',\n",
    "        df.columns[2]: 'dolasci_domacih_turista',\n",
    "        df.columns[5]: 'nocenje_stranih_turista',\n",
    "        df.columns[6]: 'nocenje_domacih_turista'},\n",
    "        inplace=True\n",
    ")\n",
    "df.drop(labels=0, inplace=True)\n",
    "df.drop(columns=[df.columns[3], df.columns[4], df.columns[7], df.columns[8]],\n",
    "        inplace=True)"
   ]
  },
  {
   "cell_type": "code",
   "execution_count": 6,
   "id": "7418d933",
   "metadata": {
    "ExecuteTime": {
     "end_time": "2023-03-18T14:37:37.351288Z",
     "start_time": "2023-03-18T14:37:37.329422Z"
    }
   },
   "outputs": [
    {
     "data": {
      "text/html": [
       "<div>\n",
       "<style scoped>\n",
       "    .dataframe tbody tr th:only-of-type {\n",
       "        vertical-align: middle;\n",
       "    }\n",
       "\n",
       "    .dataframe tbody tr th {\n",
       "        vertical-align: top;\n",
       "    }\n",
       "\n",
       "    .dataframe thead th {\n",
       "        text-align: right;\n",
       "    }\n",
       "</style>\n",
       "<table border=\"1\" class=\"dataframe\">\n",
       "  <thead>\n",
       "    <tr style=\"text-align: right;\">\n",
       "      <th></th>\n",
       "      <th>opstina</th>\n",
       "      <th>dolasci_stranih_turista</th>\n",
       "      <th>dolasci_domacih_turista</th>\n",
       "      <th>nocenje_stranih_turista</th>\n",
       "      <th>nocenje_domacih_turista</th>\n",
       "    </tr>\n",
       "  </thead>\n",
       "  <tbody>\n",
       "    <tr>\n",
       "      <th>1</th>\n",
       "      <td>Andrijevica</td>\n",
       "      <td>306</td>\n",
       "      <td>134</td>\n",
       "      <td>325</td>\n",
       "      <td>163</td>\n",
       "    </tr>\n",
       "    <tr>\n",
       "      <th>2</th>\n",
       "      <td>Bar</td>\n",
       "      <td>145841</td>\n",
       "      <td>11517</td>\n",
       "      <td>1163929</td>\n",
       "      <td>55914</td>\n",
       "    </tr>\n",
       "    <tr>\n",
       "      <th>3</th>\n",
       "      <td>Berane</td>\n",
       "      <td>1128</td>\n",
       "      <td>908</td>\n",
       "      <td>1548</td>\n",
       "      <td>1271</td>\n",
       "    </tr>\n",
       "    <tr>\n",
       "      <th>4</th>\n",
       "      <td>Bijelo Polje</td>\n",
       "      <td>2369</td>\n",
       "      <td>1824</td>\n",
       "      <td>4918</td>\n",
       "      <td>2751</td>\n",
       "    </tr>\n",
       "    <tr>\n",
       "      <th>5</th>\n",
       "      <td>Budva</td>\n",
       "      <td>697110</td>\n",
       "      <td>57457</td>\n",
       "      <td>4356139</td>\n",
       "      <td>313987</td>\n",
       "    </tr>\n",
       "  </tbody>\n",
       "</table>\n",
       "</div>"
      ],
      "text/plain": [
       "        opstina  dolasci_stranih_turista  dolasci_domacih_turista  \\\n",
       "1   Andrijevica                      306                      134   \n",
       "2           Bar                   145841                    11517   \n",
       "3        Berane                     1128                      908   \n",
       "4  Bijelo Polje                     2369                     1824   \n",
       "5         Budva                   697110                    57457   \n",
       "\n",
       "   nocenje_stranih_turista  nocenje_domacih_turista  \n",
       "1                      325                      163  \n",
       "2                  1163929                    55914  \n",
       "3                     1548                     1271  \n",
       "4                     4918                     2751  \n",
       "5                  4356139                   313987  "
      ]
     },
     "execution_count": 6,
     "metadata": {},
     "output_type": "execute_result"
    }
   ],
   "source": [
    "tourists_by_mun_2014 = df.copy()\n",
    "tourists_by_mun_2014.head()"
   ]
  },
  {
   "cell_type": "code",
   "execution_count": 31,
   "id": "4630fbed",
   "metadata": {
    "ExecuteTime": {
     "end_time": "2023-03-20T11:06:49.642565Z",
     "start_time": "2023-03-20T11:06:49.615547Z"
    }
   },
   "outputs": [],
   "source": [
    " tourists_by_mun_2014.to_csv(fr'C:\\Users\\Ivan\\Desktop\\tourism_analysis\\data\\cleaned_data\\final_data_municipality\\tourists_by_municipality_2014.csv', index=False)"
   ]
  },
  {
   "cell_type": "markdown",
   "id": "3d055e37",
   "metadata": {},
   "source": [
    "<h3>Table 3: Tourists by Country</h3>"
   ]
  },
  {
   "cell_type": "code",
   "execution_count": 32,
   "id": "3476c857",
   "metadata": {
    "ExecuteTime": {
     "end_time": "2023-03-20T11:06:50.625281Z",
     "start_time": "2023-03-20T11:06:50.553368Z"
    }
   },
   "outputs": [],
   "source": [
    "df = pd.read_excel(path, sheet_name='Sheet4', header=3)    "
   ]
  },
  {
   "cell_type": "code",
   "execution_count": 33,
   "id": "a4297f52",
   "metadata": {
    "ExecuteTime": {
     "end_time": "2023-03-20T11:06:51.236441Z",
     "start_time": "2023-03-20T11:06:51.114411Z"
    }
   },
   "outputs": [],
   "source": [
    "df.rename(columns={\n",
    "    df.columns[0]: 'zemlja_porijekla', \n",
    "    df.columns[1]: 'dolasci',\n",
    "    df.columns[3]:'nocenja',},\n",
    "    inplace= True)\n",
    "    \n",
    "df.drop(columns=[df.columns[2], df.columns[4]],\n",
    "        inplace=True)\n",
    "    \n",
    "filt = (~df['zemlja_porijekla'].isin(['Strani turisti', 'Evropa', 'Vanevropske zemlje']))\n",
    "df = df[filt]\n",
    "df = df.reset_index(drop=True)"
   ]
  },
  {
   "cell_type": "code",
   "execution_count": 34,
   "id": "2776b7bb",
   "metadata": {
    "ExecuteTime": {
     "end_time": "2023-03-20T11:06:51.902300Z",
     "start_time": "2023-03-20T11:06:51.886892Z"
    }
   },
   "outputs": [
    {
     "data": {
      "text/plain": [
       "1350297"
      ]
     },
     "execution_count": 34,
     "metadata": {},
     "output_type": "execute_result"
    }
   ],
   "source": [
    "tourists_by_country_2014 = df.copy()\n",
    "tourists_by_country_2014['dolasci'].sum()"
   ]
  },
  {
   "cell_type": "code",
   "execution_count": 11,
   "id": "3104814d",
   "metadata": {
    "ExecuteTime": {
     "end_time": "2023-03-19T11:02:31.952496Z",
     "start_time": "2023-03-19T11:02:31.773002Z"
    }
   },
   "outputs": [],
   "source": [
    "tourists_by_country_2014.to_csv('C:/Users/Ivan/Desktop/tourism_analysis/data/cleaned_data/final_data_country/tourists_by_country_2014.csv')"
   ]
  },
  {
   "cell_type": "code",
   "execution_count": null,
   "id": "2beb7b40",
   "metadata": {},
   "outputs": [],
   "source": []
  }
 ],
 "metadata": {
  "kernelspec": {
   "display_name": "Python 3 (ipykernel)",
   "language": "python",
   "name": "python3"
  },
  "language_info": {
   "codemirror_mode": {
    "name": "ipython",
    "version": 3
   },
   "file_extension": ".py",
   "mimetype": "text/x-python",
   "name": "python",
   "nbconvert_exporter": "python",
   "pygments_lexer": "ipython3",
   "version": "3.11.0"
  },
  "varInspector": {
   "cols": {
    "lenName": 16,
    "lenType": 16,
    "lenVar": 40
   },
   "kernels_config": {
    "python": {
     "delete_cmd_postfix": "",
     "delete_cmd_prefix": "del ",
     "library": "var_list.py",
     "varRefreshCmd": "print(var_dic_list())"
    },
    "r": {
     "delete_cmd_postfix": ") ",
     "delete_cmd_prefix": "rm(",
     "library": "var_list.r",
     "varRefreshCmd": "cat(var_dic_list()) "
    }
   },
   "types_to_exclude": [
    "module",
    "function",
    "builtin_function_or_method",
    "instance",
    "_Feature"
   ],
   "window_display": false
  }
 },
 "nbformat": 4,
 "nbformat_minor": 5
}
