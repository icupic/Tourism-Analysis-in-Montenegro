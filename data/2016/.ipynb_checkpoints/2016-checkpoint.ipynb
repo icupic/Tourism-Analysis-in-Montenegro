{
 "cells": [
  {
   "cell_type": "code",
   "execution_count": 1,
   "id": "6ddd8b77",
   "metadata": {
    "ExecuteTime": {
     "end_time": "2023-03-18T14:34:12.265700Z",
     "start_time": "2023-03-18T14:34:11.439367Z"
    }
   },
   "outputs": [],
   "source": [
    "import pandas as pd\n",
    "import numpy as np"
   ]
  },
  {
   "cell_type": "markdown",
   "id": "1240082e",
   "metadata": {},
   "source": [
    "<h1 align=\"center\">Data Wrangling: Import and Cleaning(2016)</h1>"
   ]
  },
  {
   "cell_type": "code",
   "execution_count": 2,
   "id": "2225130c",
   "metadata": {
    "ExecuteTime": {
     "end_time": "2023-03-18T14:34:13.895554Z",
     "start_time": "2023-03-18T14:34:13.885583Z"
    }
   },
   "outputs": [],
   "source": [
    "file_paths = {\n",
    "    'jan': r'C:\\Users\\Ivan\\Desktop\\tourism_analysis\\data\\2016\\januar_2016.xls',\n",
    "    'feb': r'C:\\Users\\Ivan\\Desktop\\tourism_analysis\\data\\2016\\februar_2016.xls',\n",
    "    'mar': r'C:\\Users\\Ivan\\Desktop\\tourism_analysis\\data\\2016\\mart_2016.xls',\n",
    "    'apr': r'C:\\Users\\Ivan\\Desktop\\tourism_analysis\\data\\2016\\april_2016.xls',\n",
    "    'maj': r'C:\\Users\\Ivan\\Desktop\\tourism_analysis\\data\\2016\\maj_2016.xls',\n",
    "    'jun': r'C:\\Users\\Ivan\\Desktop\\tourism_analysis\\data\\2016\\jun_2016.xls',\n",
    "    'jul': r'C:\\Users\\Ivan\\Desktop\\tourism_analysis\\data\\2016\\jul_2016.xls',\n",
    "    'avg': r'C:\\Users\\Ivan\\Desktop\\tourism_analysis\\data\\2016\\avgust_2016.xls',\n",
    "    'sep': r'C:\\Users\\Ivan\\Desktop\\tourism_analysis\\data\\2016\\septembar_2016.xls',\n",
    "    'okt': r'C:\\Users\\Ivan\\Desktop\\tourism_analysis\\data\\2016\\oktobar_2016.xls',\n",
    "    'nov': r'C:\\Users\\Ivan\\Desktop\\tourism_analysis\\data\\2016\\novembar_2016.xls',\n",
    "    'dec': r'C:\\Users\\Ivan\\Desktop\\tourism_analysis\\data\\2016\\decembar_2016.xls'\n",
    "}"
   ]
  },
  {
   "cell_type": "markdown",
   "id": "171bd197",
   "metadata": {},
   "source": [
    "<h3>Table 1: Tourists by Accommodation Type</h3> <br>\n",
    "\n",
    "The code defines a dictionary `file_paths`| that contains file paths for monthly tourism data in 2016. It then reads the data from each file, cleans and prepares the data by renaming columns, dropping unnecessary columns, and re-categorizing accommodation types. The cleaned data is stored in a dictionary `tourists_by_acc_dict`, where the key is the month abbreviation and the value is a pandas DataFrame containing the cleaned data for that month. Finally, the code concatenates the DataFrames for all months except January and sums the number of tourists by accommodation type to create a summary DataFrame `tourists_by_acc_2016`."
   ]
  },
  {
   "cell_type": "code",
   "execution_count": 3,
   "id": "5aa7580f",
   "metadata": {
    "ExecuteTime": {
     "end_time": "2023-03-18T14:34:15.537060Z",
     "start_time": "2023-03-18T14:34:15.019221Z"
    }
   },
   "outputs": [],
   "source": [
    "tourists_by_acc_dict = {}\n",
    "for month, path in file_paths.items():\n",
    "    tourists_by_acc_dict[f'{month}'] = pd.read_excel(path, sheet_name='Sheet6', header=4, nrows=2)\n",
    "    \n",
    "for year, df in tourists_by_acc_dict.items():\n",
    "    df.rename(columns={\n",
    "            df.columns[0]: 'tip_smjestaja',\n",
    "            df.columns[1]: 'dolasci_turista'},\n",
    "            inplace=True\n",
    "    )\n",
    "    df.drop(columns=[df.columns[2], df.columns[3]],\n",
    "            inplace=True)\n",
    "    filt = df['tip_smjestaja'].str.contains('Kolektivni')\n",
    "    filt1 = df['tip_smjestaja'].str.contains('smještaj 2')\n",
    "    df.loc[filt, 'tip_smjestaja'] = 'Kolektivni smještaj'\n",
    "    df.loc[filt1, 'tip_smjestaja'] = 'Privatni smještaj'"
   ]
  },
  {
   "cell_type": "code",
   "execution_count": 4,
   "id": "dc8a82cf",
   "metadata": {
    "ExecuteTime": {
     "end_time": "2023-03-18T14:34:16.090886Z",
     "start_time": "2023-03-18T14:34:16.037110Z"
    }
   },
   "outputs": [],
   "source": [
    "df1 = tourists_by_acc_dict['jan'].copy()\n",
    "for key in file_paths:\n",
    "    if key != 'jan':\n",
    "        df1 = pd.concat([df1, tourists_by_acc_dict[key]], ignore_index=True).groupby('tip_smjestaja', as_index=False).sum()"
   ]
  },
  {
   "cell_type": "code",
   "execution_count": 5,
   "id": "dc5499a2",
   "metadata": {
    "ExecuteTime": {
     "end_time": "2023-03-18T14:34:16.589801Z",
     "start_time": "2023-03-18T14:34:16.560231Z"
    }
   },
   "outputs": [
    {
     "data": {
      "text/html": [
       "<div>\n",
       "<style scoped>\n",
       "    .dataframe tbody tr th:only-of-type {\n",
       "        vertical-align: middle;\n",
       "    }\n",
       "\n",
       "    .dataframe tbody tr th {\n",
       "        vertical-align: top;\n",
       "    }\n",
       "\n",
       "    .dataframe thead th {\n",
       "        text-align: right;\n",
       "    }\n",
       "</style>\n",
       "<table border=\"1\" class=\"dataframe\">\n",
       "  <thead>\n",
       "    <tr style=\"text-align: right;\">\n",
       "      <th></th>\n",
       "      <th>tip_smjestaja</th>\n",
       "      <th>dolasci_turista</th>\n",
       "    </tr>\n",
       "  </thead>\n",
       "  <tbody>\n",
       "    <tr>\n",
       "      <th>0</th>\n",
       "      <td>Kolektivni smještaj</td>\n",
       "      <td>808788</td>\n",
       "    </tr>\n",
       "    <tr>\n",
       "      <th>1</th>\n",
       "      <td>Privatni smještaj</td>\n",
       "      <td>1005029</td>\n",
       "    </tr>\n",
       "  </tbody>\n",
       "</table>\n",
       "</div>"
      ],
      "text/plain": [
       "         tip_smjestaja  dolasci_turista\n",
       "0  Kolektivni smještaj           808788\n",
       "1    Privatni smještaj          1005029"
      ]
     },
     "execution_count": 5,
     "metadata": {},
     "output_type": "execute_result"
    }
   ],
   "source": [
    "tourists_by_acc_2016 = df1.copy()\n",
    "tourists_by_acc_2016.head()"
   ]
  },
  {
   "cell_type": "code",
   "execution_count": 6,
   "id": "31525ed3",
   "metadata": {
    "ExecuteTime": {
     "end_time": "2023-03-18T14:34:17.580629Z",
     "start_time": "2023-03-18T14:34:17.234757Z"
    }
   },
   "outputs": [],
   "source": [
    "tourists_by_acc_dict = {}\n",
    "for month, path in file_paths.items():\n",
    "    tourists_by_acc_dict[f'{month}'] = pd.read_excel(path, sheet_name='Sheet7', header=4, nrows=2)\n",
    "    \n",
    "for year, df in tourists_by_acc_dict.items():\n",
    "    df.rename(columns={\n",
    "            df.columns[0]: 'tip_smjestaja',\n",
    "            df.columns[1]: 'nocenje_turista'},\n",
    "            inplace=True\n",
    "    )\n",
    "    df.drop(columns=[df.columns[2], df.columns[3]],\n",
    "            inplace=True)\n",
    "    filt = df['tip_smjestaja'].str.contains('Kolektivni')\n",
    "    filt1 = df['tip_smjestaja'].str.contains('smještaj 2')\n",
    "    df.loc[filt, 'tip_smjestaja'] = 'Kolektivni smještaj'\n",
    "    df.loc[filt1, 'tip_smjestaja'] = 'Privatni smještaj'"
   ]
  },
  {
   "cell_type": "code",
   "execution_count": 7,
   "id": "ca6f9a3d",
   "metadata": {
    "ExecuteTime": {
     "end_time": "2023-03-18T14:34:17.798890Z",
     "start_time": "2023-03-18T14:34:17.749023Z"
    }
   },
   "outputs": [],
   "source": [
    "df1 = tourists_by_acc_dict['jan'].copy()\n",
    "for key in file_paths:\n",
    "    if key != 'jan':\n",
    "        df1 = pd.concat([df1, tourists_by_acc_dict[key]], ignore_index=True).groupby('tip_smjestaja', as_index=False).sum()"
   ]
  },
  {
   "cell_type": "code",
   "execution_count": 8,
   "id": "ba555f42",
   "metadata": {
    "ExecuteTime": {
     "end_time": "2023-03-18T14:34:19.438435Z",
     "start_time": "2023-03-18T14:34:19.419201Z"
    }
   },
   "outputs": [],
   "source": [
    "tourists_by_acc_2016 = pd.concat([tourists_by_acc_2016, df1], ignore_index=True).groupby('tip_smjestaja', as_index=False).sum()\n",
    "tourists_by_acc_2016[['dolasci_turista', 'nocenje_turista']] = tourists_by_acc_2016[['dolasci_turista', 'nocenje_turista']].astype('int')"
   ]
  },
  {
   "cell_type": "code",
   "execution_count": 31,
   "id": "62b00071",
   "metadata": {
    "ExecuteTime": {
     "end_time": "2023-03-19T17:25:32.857688Z",
     "start_time": "2023-03-19T17:25:32.847286Z"
    }
   },
   "outputs": [],
   "source": [
    "tourists_by_acc_2016.loc[tourists_by_acc_2016['tip_smjestaja'].str.contains('Privatni'), 'tip_smjestaja'] = 'Individualni turistički smještaj'"
   ]
  },
  {
   "cell_type": "code",
   "execution_count": 34,
   "id": "142a2f83",
   "metadata": {
    "ExecuteTime": {
     "end_time": "2023-03-19T19:48:00.957624Z",
     "start_time": "2023-03-19T19:48:00.729879Z"
    }
   },
   "outputs": [
    {
     "data": {
      "text/html": [
       "<div>\n",
       "<style scoped>\n",
       "    .dataframe tbody tr th:only-of-type {\n",
       "        vertical-align: middle;\n",
       "    }\n",
       "\n",
       "    .dataframe tbody tr th {\n",
       "        vertical-align: top;\n",
       "    }\n",
       "\n",
       "    .dataframe thead th {\n",
       "        text-align: right;\n",
       "    }\n",
       "</style>\n",
       "<table border=\"1\" class=\"dataframe\">\n",
       "  <thead>\n",
       "    <tr style=\"text-align: right;\">\n",
       "      <th></th>\n",
       "      <th>tip_smjestaja</th>\n",
       "      <th>dolasci_turista</th>\n",
       "      <th>nocenje_turista</th>\n",
       "    </tr>\n",
       "  </thead>\n",
       "  <tbody>\n",
       "    <tr>\n",
       "      <th>0</th>\n",
       "      <td>Kolektivni smještaj</td>\n",
       "      <td>808788</td>\n",
       "      <td>3521897</td>\n",
       "    </tr>\n",
       "    <tr>\n",
       "      <th>1</th>\n",
       "      <td>Individualni turistički smještaj</td>\n",
       "      <td>1005029</td>\n",
       "      <td>7728108</td>\n",
       "    </tr>\n",
       "  </tbody>\n",
       "</table>\n",
       "</div>"
      ],
      "text/plain": [
       "                      tip_smjestaja  dolasci_turista  nocenje_turista\n",
       "0               Kolektivni smještaj           808788          3521897\n",
       "1  Individualni turistički smještaj          1005029          7728108"
      ]
     },
     "execution_count": 34,
     "metadata": {},
     "output_type": "execute_result"
    }
   ],
   "source": [
    "tourists_by_acc_2016"
   ]
  },
  {
   "cell_type": "code",
   "execution_count": 33,
   "id": "133b12be",
   "metadata": {
    "ExecuteTime": {
     "end_time": "2023-03-19T17:38:51.870198Z",
     "start_time": "2023-03-19T17:38:51.857076Z"
    }
   },
   "outputs": [],
   "source": [
    "tourists_by_acc_2016.to_csv(fr'C:\\Users\\Ivan\\Desktop\\tourism_analysis\\data\\cleaned_data\\final_data_accomodation\\tourists_by_accomodation_2016.csv')"
   ]
  },
  {
   "cell_type": "markdown",
   "id": "98902cc7",
   "metadata": {},
   "source": [
    "<h3>Table 2: Tourists by Municipality</h3><br>\n",
    "\n",
    "The code provided reads data from multiple Excel sheets and combines them into a single dataframe. It then performs data cleaning operations such as renaming columns, dropping unnecessary columns, filling missing values, and replacing dashes with zeros. Finally, it creates a new dataframe and saves it as a CSV file. The resulting dataframe contains information about the number of foreign and domestic tourists and their overnight stays in various municipalities in Montenegro in `2016`."
   ]
  },
  {
   "cell_type": "code",
   "execution_count": 10,
   "id": "51f4cfa2",
   "metadata": {
    "ExecuteTime": {
     "end_time": "2023-03-18T14:34:23.309473Z",
     "start_time": "2023-03-18T14:34:22.948291Z"
    }
   },
   "outputs": [],
   "source": [
    "tourists_by_mun_dict = {}\n",
    "for month, path in file_paths.items():\n",
    "    tourists_by_mun_dict[f'{month}'] = pd.read_excel(path, sheet_name='Sheet4', header=3)\n",
    "\n",
    "for month, df in tourists_by_mun_dict.items():\n",
    "    df.rename(columns={\n",
    "            df.columns[0]: 'opstina',\n",
    "            df.columns[1]: 'dolasci_stranih_turista',\n",
    "            df.columns[2]: 'dolasci_domacih_turista',\n",
    "            df.columns[5]: 'nocenje_stranih_turista',\n",
    "            df.columns[6]: 'nocenje_domacih_turista'},\n",
    "            inplace=True\n",
    "    )\n",
    "    df.drop(labels=0, inplace=True)\n",
    "    df.drop(columns=[df.columns[3], df.columns[4], df.columns[7], df.columns[8]],\n",
    "            inplace=True)\n",
    "    tourists_by_mun_dict[month] = tourists_by_mun_dict[month].fillna(0)\n",
    "    tourists_by_mun_dict[month] = tourists_by_mun_dict[month].replace('-', 0)"
   ]
  },
  {
   "cell_type": "code",
   "execution_count": 11,
   "id": "6fabfa77",
   "metadata": {
    "ExecuteTime": {
     "end_time": "2023-03-18T14:34:23.826527Z",
     "start_time": "2023-03-18T14:34:23.758680Z"
    }
   },
   "outputs": [],
   "source": [
    "df1 = tourists_by_mun_dict['jan'].copy()\n",
    "for key in file_paths:\n",
    "    if key != 'jan':\n",
    "        df1 = pd.concat([df1, tourists_by_mun_dict[key]], ignore_index=True).groupby('opstina', as_index=False).sum()\n",
    "        "
   ]
  },
  {
   "cell_type": "code",
   "execution_count": 12,
   "id": "e988195c",
   "metadata": {
    "ExecuteTime": {
     "end_time": "2023-03-18T14:34:24.376249Z",
     "start_time": "2023-03-18T14:34:24.359586Z"
    }
   },
   "outputs": [
    {
     "data": {
      "text/html": [
       "<div>\n",
       "<style scoped>\n",
       "    .dataframe tbody tr th:only-of-type {\n",
       "        vertical-align: middle;\n",
       "    }\n",
       "\n",
       "    .dataframe tbody tr th {\n",
       "        vertical-align: top;\n",
       "    }\n",
       "\n",
       "    .dataframe thead th {\n",
       "        text-align: right;\n",
       "    }\n",
       "</style>\n",
       "<table border=\"1\" class=\"dataframe\">\n",
       "  <thead>\n",
       "    <tr style=\"text-align: right;\">\n",
       "      <th></th>\n",
       "      <th>opstina</th>\n",
       "      <th>dolasci_stranih_turista</th>\n",
       "      <th>dolasci_domacih_turista</th>\n",
       "      <th>nocenje_stranih_turista</th>\n",
       "      <th>nocenje_domacih_turista</th>\n",
       "    </tr>\n",
       "  </thead>\n",
       "  <tbody>\n",
       "    <tr>\n",
       "      <th>0</th>\n",
       "      <td>Andrijevica</td>\n",
       "      <td>57</td>\n",
       "      <td>259</td>\n",
       "      <td>72</td>\n",
       "      <td>319</td>\n",
       "    </tr>\n",
       "    <tr>\n",
       "      <th>1</th>\n",
       "      <td>Bar</td>\n",
       "      <td>178426</td>\n",
       "      <td>10690</td>\n",
       "      <td>1487979</td>\n",
       "      <td>42611</td>\n",
       "    </tr>\n",
       "    <tr>\n",
       "      <th>2</th>\n",
       "      <td>Berane</td>\n",
       "      <td>1391</td>\n",
       "      <td>990</td>\n",
       "      <td>1806</td>\n",
       "      <td>1293</td>\n",
       "    </tr>\n",
       "    <tr>\n",
       "      <th>3</th>\n",
       "      <td>Bijelo Polje</td>\n",
       "      <td>4126</td>\n",
       "      <td>2749</td>\n",
       "      <td>8698</td>\n",
       "      <td>5052</td>\n",
       "    </tr>\n",
       "    <tr>\n",
       "      <th>4</th>\n",
       "      <td>Budva</td>\n",
       "      <td>741870</td>\n",
       "      <td>64601</td>\n",
       "      <td>4659848</td>\n",
       "      <td>345069</td>\n",
       "    </tr>\n",
       "  </tbody>\n",
       "</table>\n",
       "</div>"
      ],
      "text/plain": [
       "        opstina  dolasci_stranih_turista  dolasci_domacih_turista  \\\n",
       "0   Andrijevica                       57                      259   \n",
       "1           Bar                   178426                    10690   \n",
       "2        Berane                     1391                      990   \n",
       "3  Bijelo Polje                     4126                     2749   \n",
       "4         Budva                   741870                    64601   \n",
       "\n",
       "   nocenje_stranih_turista  nocenje_domacih_turista  \n",
       "0                       72                      319  \n",
       "1                  1487979                    42611  \n",
       "2                     1806                     1293  \n",
       "3                     8698                     5052  \n",
       "4                  4659848                   345069  "
      ]
     },
     "execution_count": 12,
     "metadata": {},
     "output_type": "execute_result"
    }
   ],
   "source": [
    "tourists_by_municipality_2016 = df1.copy()\n",
    "tourists_by_municipality_2016.head()"
   ]
  },
  {
   "cell_type": "code",
   "execution_count": 19,
   "id": "9a705ccf",
   "metadata": {
    "ExecuteTime": {
     "end_time": "2023-03-19T11:23:39.890360Z",
     "start_time": "2023-03-19T11:23:39.498833Z"
    }
   },
   "outputs": [],
   "source": [
    " tourists_by_municipality_2016.to_csv(fr'C:\\Users\\Ivan\\Desktop\\tourism_analysis\\data\\cleaned_data\\final_data_municipality\\tourists_by_municipality_2016.csv', index=False)"
   ]
  },
  {
   "cell_type": "markdown",
   "id": "7ef6cffb",
   "metadata": {},
   "source": [
    "<h3>Table 3: Tourists by Country</h3><br>\n",
    "This code creates a dictionary of DataFrames with information about tourists by country for each month, from multiple Excel files. The code performs some data cleaning on each DataFrame, including renaming columns, dropping unnecessary columns, removing rows for certain countries, filling in missing values, and replacing dashes with zeros. The code then aggregates the information from each month into a single DataFrame for the year 2016 , which is saved as a CSV file. The total number of tourist arrivals for 2016 is also printed."
   ]
  },
  {
   "cell_type": "code",
   "execution_count": 13,
   "id": "61763a40",
   "metadata": {
    "ExecuteTime": {
     "end_time": "2023-03-18T14:34:26.913696Z",
     "start_time": "2023-03-18T14:34:26.554571Z"
    }
   },
   "outputs": [],
   "source": [
    "tourists_by_country_dict = {}\n",
    "for month, path in file_paths.items():\n",
    "    tourists_by_country_dict[f'{month}'] = pd.read_excel(path, sheet_name='Sheet5', header=1)\n",
    "\n",
    "for month, df in tourists_by_country_dict.items():\n",
    "    df.rename(columns={\n",
    "        df.columns[0]: 'zemlja_porijekla', \n",
    "        df.columns[1]: 'dolasci',\n",
    "        df.columns[3]:'nocenja',},\n",
    "        inplace= True)\n",
    "    \n",
    "    df.drop(columns=[df.columns[2], df.columns[4]],\n",
    "            inplace=True)\n",
    "    \n",
    "    filt = (~df['zemlja_porijekla'].isin(['Strani turisti', 'Evropa', 'Vanevropske zemlje']))\n",
    "    tourists_by_country_dict[month] = df[filt]\n",
    "    tourists_by_country_dict[month] = tourists_by_country_dict[month].reset_index(drop=True)\n",
    "    tourists_by_country_dict[month] = tourists_by_country_dict[month].fillna(0)\n",
    "    tourists_by_country_dict[month] = tourists_by_country_dict[month].replace('-', 0)"
   ]
  },
  {
   "cell_type": "code",
   "execution_count": 14,
   "id": "8d88218c",
   "metadata": {
    "ExecuteTime": {
     "end_time": "2023-03-18T14:34:27.405855Z",
     "start_time": "2023-03-18T14:34:27.385026Z"
    }
   },
   "outputs": [],
   "source": [
    "df1 = tourists_by_country_dict['jan'].copy()\n",
    "for key in file_paths:\n",
    "    if key != 'jan':\n",
    "        df1['dolasci'] = df1['dolasci'] + tourists_by_country_dict[key]['dolasci']\n",
    "        df1['nocenja'] = df1['dolasci'] + tourists_by_country_dict[key]['nocenja']"
   ]
  },
  {
   "cell_type": "code",
   "execution_count": 20,
   "id": "f78c6a7a",
   "metadata": {
    "ExecuteTime": {
     "end_time": "2023-03-19T13:21:40.319941Z",
     "start_time": "2023-03-19T13:21:39.455966Z"
    }
   },
   "outputs": [
    {
     "data": {
      "text/plain": [
       "1662121"
      ]
     },
     "execution_count": 20,
     "metadata": {},
     "output_type": "execute_result"
    }
   ],
   "source": [
    "tourists_by_country_2016 = df1.copy()\n",
    "tourists_by_country_2016['dolasci'].sum()"
   ]
  },
  {
   "cell_type": "code",
   "execution_count": 17,
   "id": "62491006",
   "metadata": {
    "ExecuteTime": {
     "end_time": "2023-03-19T11:02:21.111534Z",
     "start_time": "2023-03-19T11:02:20.873849Z"
    }
   },
   "outputs": [],
   "source": [
    "tourists_by_country_2016.to_csv(fr'C:/Users/Ivan/Desktop/tourism_analysis/data/cleaned_data/final_data_country/tourists_by_country_2016.csv')"
   ]
  },
  {
   "cell_type": "code",
   "execution_count": null,
   "id": "666b23b1",
   "metadata": {},
   "outputs": [],
   "source": []
  }
 ],
 "metadata": {
  "kernelspec": {
   "display_name": "Python 3 (ipykernel)",
   "language": "python",
   "name": "python3"
  },
  "language_info": {
   "codemirror_mode": {
    "name": "ipython",
    "version": 3
   },
   "file_extension": ".py",
   "mimetype": "text/x-python",
   "name": "python",
   "nbconvert_exporter": "python",
   "pygments_lexer": "ipython3",
   "version": "3.11.0"
  },
  "varInspector": {
   "cols": {
    "lenName": 16,
    "lenType": 16,
    "lenVar": 40
   },
   "kernels_config": {
    "python": {
     "delete_cmd_postfix": "",
     "delete_cmd_prefix": "del ",
     "library": "var_list.py",
     "varRefreshCmd": "print(var_dic_list())"
    },
    "r": {
     "delete_cmd_postfix": ") ",
     "delete_cmd_prefix": "rm(",
     "library": "var_list.r",
     "varRefreshCmd": "cat(var_dic_list()) "
    }
   },
   "types_to_exclude": [
    "module",
    "function",
    "builtin_function_or_method",
    "instance",
    "_Feature"
   ],
   "window_display": false
  }
 },
 "nbformat": 4,
 "nbformat_minor": 5
}
