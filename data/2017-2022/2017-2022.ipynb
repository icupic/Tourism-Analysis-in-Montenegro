{
 "cells": [
  {
   "cell_type": "code",
   "execution_count": 1,
   "id": "4a546906",
   "metadata": {
    "ExecuteTime": {
     "end_time": "2023-03-31T12:15:17.889932Z",
     "start_time": "2023-03-31T12:15:12.860711Z"
    }
   },
   "outputs": [],
   "source": [
    "import numpy as np\n",
    "import pandas as pd"
   ]
  },
  {
   "cell_type": "markdown",
   "id": "39354216",
   "metadata": {},
   "source": [
    "<h1 align=\"center\">Data Wrangling: Import and Cleaning(2017-2022)</h1>"
   ]
  },
  {
   "cell_type": "markdown",
   "id": "234c87e2",
   "metadata": {},
   "source": [
    "<h3> Overview</h3>\n",
    "The code reads in data from Excel files for each year from 2017 to 2022 containing information about the number of foreign and domestic tourists, as well as the number of overnight stays, by type of accommodation. It creates a dictionary of dataframes, where each key is the year of the data.\n",
    "\n",
    "The code then performs data cleaning on each dataframe, which includes renaming columns, dropping unnecessary columns, removing null rows, and converting float values to integers. The cleaned data is saved to CSV files.\n",
    "\n",
    "Overall, the code performs data wrangling tasks such as data importing and cleaning to prepare the data for further analysis and visualization."
   ]
  },
  {
   "cell_type": "markdown",
   "id": "67700098",
   "metadata": {},
   "source": [
    "<h3>Table 1: Tourists by Accommodation Type</h3>\n",
    "\n",
    "This table contains data on the number of foreign and domestic tourists, as well as the number of overnight stays, by type of accommodation for each year from 2017 to 2022. The code first reads in the data from Excel files for each year and creates a dictionary of dataframes. It then renames the columns, drops unnecessary columns, removes null rows, converts float values to integers, and saves the cleaned data to CSV files. Finally, the code prints the total number of foreign tourists for each year."
   ]
  },
  {
   "cell_type": "code",
   "execution_count": 6,
   "id": "4c0d28db",
   "metadata": {
    "ExecuteTime": {
     "end_time": "2023-03-31T12:16:38.228681Z",
     "start_time": "2023-03-31T12:16:38.208138Z"
    }
   },
   "outputs": [],
   "source": [
    "file_paths = {\n",
    "    '2022': r'C:\\Users\\Ivan\\Desktop\\tourism_analysis\\data\\2017-2022\\2022\\ukupno_2022.xlsx',\n",
    "    '2021': r'C:\\Users\\Ivan\\Desktop\\tourism_analysis\\data\\2017-2022\\2021\\ukupno_2021.xlsx',\n",
    "    '2020': r'C:\\Users\\Ivan\\Desktop\\tourism_analysis\\data\\2017-2022\\2020\\ukupno_2020.xlsx',\n",
    "    '2019': r'C:\\Users\\Ivan\\Desktop\\tourism_analysis\\data\\2017-2022\\2019\\ukupno_2019.xls',\n",
    "    '2018': r'C:\\Users\\Ivan\\Desktop\\tourism_analysis\\data\\2017-2022\\2018\\ukupno_2018.xls',\n",
    "    '2017': r'C:\\Users\\Ivan\\Desktop\\tourism_analysis\\data\\2017-2022\\2017\\ukupno_2017.xls'\n",
    "}"
   ]
  },
  {
   "cell_type": "code",
   "execution_count": 7,
   "id": "e91cde47",
   "metadata": {
    "ExecuteTime": {
     "end_time": "2023-03-31T12:16:39.216036Z",
     "start_time": "2023-03-31T12:16:38.951823Z"
    }
   },
   "outputs": [],
   "source": [
    "tourists_by_acc_dict = {}\n",
    "for year, path in file_paths.items():\n",
    "    tourists_by_acc_dict[f'tourists_by_accomodation_{year}'] = pd.read_excel(path, sheet_name='Sheet1', header=6)\n",
    "    "
   ]
  },
  {
   "cell_type": "code",
   "execution_count": 8,
   "id": "3ee87315",
   "metadata": {
    "ExecuteTime": {
     "end_time": "2023-03-31T12:16:39.848092Z",
     "start_time": "2023-03-31T12:16:39.752235Z"
    }
   },
   "outputs": [
    {
     "name": "stderr",
     "output_type": "stream",
     "text": [
      "C:\\Users\\Ivan\\AppData\\Local\\Temp\\ipykernel_2208\\472455009.py:26: FutureWarning: In a future version, `df.iloc[:, i] = newvals` will attempt to set the values inplace instead of always setting a new array. To retain the old behavior, use either `df[df.columns[i]] = newvals` or, if columns are non-unique, `df.isetitem(i, newvals)`\n",
      "  df.iloc[:, 1:] = df.iloc[:, 1:].apply(lambda x: x.astype('int') if x.dtype == 'float' else x)\n"
     ]
    }
   ],
   "source": [
    "for year, df in tourists_by_acc_dict.items():\n",
    "    #renaming columns\n",
    "    df.rename(columns={\n",
    "        df.columns[0]: 'tip_smjestaja',\n",
    "        df.columns[1]: 'dolasci_stranih_turista',\n",
    "        df.columns[2]: 'dolasci_domacih_turista',\n",
    "        df.columns[4]: 'nocenje_stranih_turista',\n",
    "        df.columns[5]: 'nocenje_domacih_turista'},\n",
    "        inplace=True)\n",
    "    #dropping unnecessary columns\n",
    "    df.drop(\n",
    "    columns=[\n",
    "        df.columns[3],\n",
    "        df.columns[6],\n",
    "    ],\n",
    "    inplace=True)\n",
    "    \n",
    "    #removing null rows and converting float to int\n",
    "    tourists_by_acc_dict[year] = df[~df['tip_smjestaja'].isnull()]\n",
    "    tourists_by_acc_dict[year] = tourists_by_acc_dict[year].reset_index(drop=True)\n",
    "    tourists_by_acc_dict[year] = tourists_by_acc_dict[year].fillna(0)\n",
    "    tourists_by_acc_dict[year] = tourists_by_acc_dict[year].replace('-', 0)\n",
    "    \n",
    "\n",
    "for year, df in tourists_by_acc_dict.items():\n",
    "    df.iloc[:, 1:] = df.iloc[:, 1:].apply(lambda x: x.astype('int') if x.dtype == 'float' else x)"
   ]
  },
  {
   "cell_type": "code",
   "execution_count": 10,
   "id": "bbfe1e9b",
   "metadata": {
    "ExecuteTime": {
     "end_time": "2023-03-31T12:16:48.931211Z",
     "start_time": "2023-03-31T12:16:48.916157Z"
    }
   },
   "outputs": [
    {
     "name": "stdout",
     "output_type": "stream",
     "text": [
      "tourists_by_accomodation_2022 2036403\n",
      "tourists_by_accomodation_2021 1553558\n",
      "tourists_by_accomodation_2020 350795\n",
      "tourists_by_accomodation_2019 2509625\n",
      "tourists_by_accomodation_2018 2076803\n",
      "tourists_by_accomodation_2017 1877212\n"
     ]
    }
   ],
   "source": [
    "for year, df in tourists_by_acc_dict.items():\n",
    "    print(year, df['dolasci_stranih_turista'].sum())"
   ]
  },
  {
   "cell_type": "code",
   "execution_count": null,
   "id": "c59cd576",
   "metadata": {
    "ExecuteTime": {
     "end_time": "2023-03-19T17:39:41.705018Z",
     "start_time": "2023-03-19T17:39:41.674161Z"
    }
   },
   "outputs": [],
   "source": [
    "for year, df in tourists_by_acc_dict.items():\n",
    "    df.to_csv(fr'C:\\Users\\Ivan\\Desktop\\tourism_analysis\\data\\cleaned_data\\final_data_accomodation\\{year}.csv', index=False)"
   ]
  },
  {
   "cell_type": "markdown",
   "id": "7743905a",
   "metadata": {
    "ExecuteTime": {
     "end_time": "2023-03-16T17:05:11.784277Z",
     "start_time": "2023-03-16T17:05:11.765150Z"
    }
   },
   "source": [
    "<h3>Table 2: Tourists by Municipality</h3>\n",
    "\n",
    "This table contains data on the number of foreign and domestic tourists, as well as the number of overnight stays, by municipality for each year from 2017 to 2022. The code reads in the data from Excel files for each year and creates a dictionary of dataframes. It then drops unnecessary columns and null rows, converts float values to integers, and saves the cleaned data to CSV files. Finally, the code prints the total number of foreign tourists for each year."
   ]
  },
  {
   "cell_type": "code",
   "execution_count": 11,
   "id": "279b6017",
   "metadata": {
    "ExecuteTime": {
     "end_time": "2023-03-31T12:16:53.744363Z",
     "start_time": "2023-03-31T12:16:53.455470Z"
    }
   },
   "outputs": [],
   "source": [
    "tourists_by_mun_dict = {}\n",
    "for year, path in file_paths.items():\n",
    "    tourists_by_mun_dict[f'tourists_by_municipality_{year}'] = pd.read_excel(path, sheet_name='Sheet2', header=3)\n",
    "    "
   ]
  },
  {
   "cell_type": "code",
   "execution_count": 12,
   "id": "c3fd2d66",
   "metadata": {
    "ExecuteTime": {
     "end_time": "2023-03-31T12:16:54.399803Z",
     "start_time": "2023-03-31T12:16:54.320805Z"
    }
   },
   "outputs": [
    {
     "name": "stderr",
     "output_type": "stream",
     "text": [
      "C:\\Users\\Ivan\\AppData\\Local\\Temp\\ipykernel_2208\\3664091703.py:16: FutureWarning: In a future version, `df.iloc[:, i] = newvals` will attempt to set the values inplace instead of always setting a new array. To retain the old behavior, use either `df[df.columns[i]] = newvals` or, if columns are non-unique, `df.isetitem(i, newvals)`\n",
      "  df.iloc[:, 1:] = df.iloc[:, 1:].apply(lambda x: x.astype('int') if x.dtype == 'float' else x)\n"
     ]
    }
   ],
   "source": [
    "for year, df in tourists_by_mun_dict.items():\n",
    "    df.rename(columns={\n",
    "            df.columns[0]: 'opstina',\n",
    "            df.columns[1]: 'dolasci_stranih_turista',\n",
    "            df.columns[2]: 'dolasci_domacih_turista',\n",
    "            df.columns[5]: 'nocenje_stranih_turista',\n",
    "            df.columns[6]: 'nocenje_domacih_turista'},\n",
    "            inplace=True\n",
    "    )\n",
    "    df.drop(labels=0, inplace=True)\n",
    "    df.drop(columns=[df.columns[3], df.columns[4], df.columns[7], df.columns[8]],\n",
    "            inplace=True)\n",
    "    tourists_by_mun_dict[year] = tourists_by_mun_dict[year].fillna(0)\n",
    "    tourists_by_mun_dict[year] = tourists_by_mun_dict[year].replace('-', 0)\n",
    "for year, df in tourists_by_mun_dict.items():\n",
    "    df.iloc[:, 1:] = df.iloc[:, 1:].apply(lambda x: x.astype('int') if x.dtype == 'float' else x)"
   ]
  },
  {
   "cell_type": "code",
   "execution_count": 13,
   "id": "2277313e",
   "metadata": {
    "ExecuteTime": {
     "end_time": "2023-03-31T12:16:56.525996Z",
     "start_time": "2023-03-31T12:16:56.481603Z"
    }
   },
   "outputs": [
    {
     "data": {
      "text/html": [
       "<div>\n",
       "<style scoped>\n",
       "    .dataframe tbody tr th:only-of-type {\n",
       "        vertical-align: middle;\n",
       "    }\n",
       "\n",
       "    .dataframe tbody tr th {\n",
       "        vertical-align: top;\n",
       "    }\n",
       "\n",
       "    .dataframe thead th {\n",
       "        text-align: right;\n",
       "    }\n",
       "</style>\n",
       "<table border=\"1\" class=\"dataframe\">\n",
       "  <thead>\n",
       "    <tr style=\"text-align: right;\">\n",
       "      <th></th>\n",
       "      <th>opstina</th>\n",
       "      <th>dolasci_stranih_turista</th>\n",
       "      <th>dolasci_domacih_turista</th>\n",
       "      <th>nocenje_stranih_turista</th>\n",
       "      <th>nocenje_domacih_turista</th>\n",
       "    </tr>\n",
       "  </thead>\n",
       "  <tbody>\n",
       "    <tr>\n",
       "      <th>1</th>\n",
       "      <td>Andrijevica</td>\n",
       "      <td>404</td>\n",
       "      <td>119</td>\n",
       "      <td>2097</td>\n",
       "      <td>468</td>\n",
       "    </tr>\n",
       "    <tr>\n",
       "      <th>2</th>\n",
       "      <td>Bar</td>\n",
       "      <td>145416</td>\n",
       "      <td>6999</td>\n",
       "      <td>1333030</td>\n",
       "      <td>27611</td>\n",
       "    </tr>\n",
       "    <tr>\n",
       "      <th>3</th>\n",
       "      <td>Berane</td>\n",
       "      <td>1890</td>\n",
       "      <td>1955</td>\n",
       "      <td>3193</td>\n",
       "      <td>2645</td>\n",
       "    </tr>\n",
       "    <tr>\n",
       "      <th>4</th>\n",
       "      <td>Bijelo Polje</td>\n",
       "      <td>3227</td>\n",
       "      <td>1116</td>\n",
       "      <td>12923</td>\n",
       "      <td>1944</td>\n",
       "    </tr>\n",
       "    <tr>\n",
       "      <th>5</th>\n",
       "      <td>Budva</td>\n",
       "      <td>522934</td>\n",
       "      <td>33613</td>\n",
       "      <td>2688528</td>\n",
       "      <td>105605</td>\n",
       "    </tr>\n",
       "  </tbody>\n",
       "</table>\n",
       "</div>"
      ],
      "text/plain": [
       "        opstina  dolasci_stranih_turista  dolasci_domacih_turista  \\\n",
       "1   Andrijevica                      404                      119   \n",
       "2           Bar                   145416                     6999   \n",
       "3        Berane                     1890                     1955   \n",
       "4  Bijelo Polje                     3227                     1116   \n",
       "5         Budva                   522934                    33613   \n",
       "\n",
       "   nocenje_stranih_turista  nocenje_domacih_turista  \n",
       "1                     2097                      468  \n",
       "2                  1333030                    27611  \n",
       "3                     3193                     2645  \n",
       "4                    12923                     1944  \n",
       "5                  2688528                   105605  "
      ]
     },
     "execution_count": 13,
     "metadata": {},
     "output_type": "execute_result"
    }
   ],
   "source": [
    "tourists_by_mun_dict['tourists_by_municipality_2021'].head()"
   ]
  },
  {
   "cell_type": "code",
   "execution_count": null,
   "id": "f8b9f2c1",
   "metadata": {
    "ExecuteTime": {
     "end_time": "2023-03-19T16:22:21.996652Z",
     "start_time": "2023-03-19T16:22:21.966723Z"
    }
   },
   "outputs": [],
   "source": [
    "for year, df in tourists_by_mun_dict.items():\n",
    "    df.to_csv(fr'C:\\Users\\Ivan\\Desktop\\tourism_analysis\\data\\cleaned_data\\final_data_municipality\\{year}.csv', index=False)"
   ]
  },
  {
   "cell_type": "markdown",
   "id": "35b70b8e",
   "metadata": {},
   "source": [
    "<h3>Table 3: Tourists by Country</h3>\n",
    "\n",
    "Tourist data from multiple Excel files were imported into a dictionary named \"tourists_by_country_dict\" using pandas' read_excel function. The imported data was then cleaned and filtered to remove unnecessary rows and columns. Specifically, the first column was renamed to \"zemlja_porijekla\", the second column to \"dolasci\", and the fourth column to \"nocenja\". The third and fifth columns were dropped. Additionally, rows containing the values \"Strani turisti\", \"Evropa\", and \"Vanevropske zemlje\" in the \"zemlja_porijekla\" column were filtered out of each DataFrame.\n",
    "\n",
    "The cleaned DataFrames were then exported to separate CSV files for each year using pandas' to_csv function."
   ]
  },
  {
   "cell_type": "code",
   "execution_count": 14,
   "id": "6f88b299",
   "metadata": {
    "ExecuteTime": {
     "end_time": "2023-03-31T12:17:10.169839Z",
     "start_time": "2023-03-31T12:17:09.886025Z"
    }
   },
   "outputs": [],
   "source": [
    "tourists_by_country_dict = {}\n",
    "for year, path in file_paths.items():\n",
    "    tourists_by_country_dict[f'tourists_by_country_{year}'] = pd.read_excel(path, sheet_name='Sheet3', header=1)"
   ]
  },
  {
   "cell_type": "code",
   "execution_count": 15,
   "id": "f109be02",
   "metadata": {
    "ExecuteTime": {
     "end_time": "2023-03-31T12:17:10.591635Z",
     "start_time": "2023-03-31T12:17:10.546799Z"
    }
   },
   "outputs": [],
   "source": [
    "for year, df in tourists_by_country_dict.items():\n",
    "    df.rename(columns={\n",
    "        df.columns[0]: 'zemlja_porijekla', \n",
    "        df.columns[1]: 'dolasci',\n",
    "        df.columns[3]:'nocenja',},\n",
    "        inplace= True)\n",
    "    \n",
    "    df.drop(columns=[df.columns[2], df.columns[4]],\n",
    "            inplace=True)\n",
    "    \n",
    "    filt = (~df['zemlja_porijekla'].isin(['Strani turisti', 'Evropa', 'Vanevropske zemlje']))\n",
    "    tourists_by_country_dict[year] = df[filt]\n",
    "    tourists_by_country_dict[year] = tourists_by_country_dict[year].reset_index(drop=True)"
   ]
  },
  {
   "cell_type": "code",
   "execution_count": 16,
   "id": "393f0664",
   "metadata": {
    "ExecuteTime": {
     "end_time": "2023-03-31T12:17:12.483256Z",
     "start_time": "2023-03-31T12:17:12.468941Z"
    }
   },
   "outputs": [
    {
     "data": {
      "text/html": [
       "<div>\n",
       "<style scoped>\n",
       "    .dataframe tbody tr th:only-of-type {\n",
       "        vertical-align: middle;\n",
       "    }\n",
       "\n",
       "    .dataframe tbody tr th {\n",
       "        vertical-align: top;\n",
       "    }\n",
       "\n",
       "    .dataframe thead th {\n",
       "        text-align: right;\n",
       "    }\n",
       "</style>\n",
       "<table border=\"1\" class=\"dataframe\">\n",
       "  <thead>\n",
       "    <tr style=\"text-align: right;\">\n",
       "      <th></th>\n",
       "      <th>zemlja_porijekla</th>\n",
       "      <th>dolasci</th>\n",
       "      <th>nocenja</th>\n",
       "    </tr>\n",
       "  </thead>\n",
       "  <tbody>\n",
       "    <tr>\n",
       "      <th>56</th>\n",
       "      <td>Ujedinjeni Arapski Emirati</td>\n",
       "      <td>2302</td>\n",
       "      <td>6183</td>\n",
       "    </tr>\n",
       "    <tr>\n",
       "      <th>57</th>\n",
       "      <td>Ostale azijske zemlje</td>\n",
       "      <td>27486</td>\n",
       "      <td>124100</td>\n",
       "    </tr>\n",
       "    <tr>\n",
       "      <th>58</th>\n",
       "      <td>Australija</td>\n",
       "      <td>6902</td>\n",
       "      <td>32521</td>\n",
       "    </tr>\n",
       "    <tr>\n",
       "      <th>59</th>\n",
       "      <td>Novi Zeland</td>\n",
       "      <td>1528</td>\n",
       "      <td>8519</td>\n",
       "    </tr>\n",
       "    <tr>\n",
       "      <th>60</th>\n",
       "      <td>Ostale zemlje Okeanije</td>\n",
       "      <td>3819</td>\n",
       "      <td>11510</td>\n",
       "    </tr>\n",
       "  </tbody>\n",
       "</table>\n",
       "</div>"
      ],
      "text/plain": [
       "              zemlja_porijekla  dolasci  nocenja\n",
       "56  Ujedinjeni Arapski Emirati     2302     6183\n",
       "57       Ostale azijske zemlje    27486   124100\n",
       "58                  Australija     6902    32521\n",
       "59                 Novi Zeland     1528     8519\n",
       "60      Ostale zemlje Okeanije     3819    11510"
      ]
     },
     "execution_count": 16,
     "metadata": {},
     "output_type": "execute_result"
    }
   ],
   "source": [
    "tourists_by_country_dict['tourists_by_country_2022'].tail()"
   ]
  },
  {
   "cell_type": "code",
   "execution_count": null,
   "id": "3c384301",
   "metadata": {
    "ExecuteTime": {
     "end_time": "2023-03-19T11:02:10.848577Z",
     "start_time": "2023-03-19T11:02:10.801820Z"
    }
   },
   "outputs": [],
   "source": [
    "for year, df in tourists_by_country_dict.items():\n",
    "    df.to_csv(fr'C:\\Users\\Ivan\\Desktop\\tourism_analysis\\data\\cleaned_data\\final_data_country\\{year}.csv', index=False)"
   ]
  }
 ],
 "metadata": {
  "kernelspec": {
   "display_name": "Python 3 (ipykernel)",
   "language": "python",
   "name": "python3"
  },
  "language_info": {
   "codemirror_mode": {
    "name": "ipython",
    "version": 3
   },
   "file_extension": ".py",
   "mimetype": "text/x-python",
   "name": "python",
   "nbconvert_exporter": "python",
   "pygments_lexer": "ipython3",
   "version": "3.11.0"
  },
  "varInspector": {
   "cols": {
    "lenName": 16,
    "lenType": 16,
    "lenVar": 40
   },
   "kernels_config": {
    "python": {
     "delete_cmd_postfix": "",
     "delete_cmd_prefix": "del ",
     "library": "var_list.py",
     "varRefreshCmd": "print(var_dic_list())"
    },
    "r": {
     "delete_cmd_postfix": ") ",
     "delete_cmd_prefix": "rm(",
     "library": "var_list.r",
     "varRefreshCmd": "cat(var_dic_list()) "
    }
   },
   "types_to_exclude": [
    "module",
    "function",
    "builtin_function_or_method",
    "instance",
    "_Feature"
   ],
   "window_display": false
  }
 },
 "nbformat": 4,
 "nbformat_minor": 5
}
