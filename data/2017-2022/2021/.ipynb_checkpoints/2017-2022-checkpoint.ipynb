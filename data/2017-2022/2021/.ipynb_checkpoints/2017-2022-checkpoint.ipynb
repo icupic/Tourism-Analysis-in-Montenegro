{
 "cells": [
  {
   "cell_type": "code",
   "execution_count": 1,
   "id": "4a546906",
   "metadata": {
    "ExecuteTime": {
     "end_time": "2023-03-19T11:01:58.968361Z",
     "start_time": "2023-03-19T11:01:54.924898Z"
    }
   },
   "outputs": [],
   "source": [
    "import numpy as np\n",
    "import pandas as pd"
   ]
  },
  {
   "cell_type": "markdown",
   "id": "67700098",
   "metadata": {},
   "source": [
    "Prva tabela:"
   ]
  },
  {
   "cell_type": "code",
   "execution_count": 2,
   "id": "4c0d28db",
   "metadata": {
    "ExecuteTime": {
     "end_time": "2023-03-19T11:02:00.025566Z",
     "start_time": "2023-03-19T11:02:00.016357Z"
    }
   },
   "outputs": [],
   "source": [
    "file_paths = {\n",
    "    '2022': r'C:\\Users\\Ivan\\Desktop\\tourism_analysis\\data\\2017-2022\\2022\\ukupno_2022.xlsx',\n",
    "    '2021': r'C:\\Users\\Ivan\\Desktop\\tourism_analysis\\data\\2017-2022\\2021\\ukupno_2021.xlsx',\n",
    "    '2020': r'C:\\Users\\Ivan\\Desktop\\tourism_analysis\\data\\2017-2022\\2020\\ukupno_2020.xlsx',\n",
    "    '2019': r'C:\\Users\\Ivan\\Desktop\\tourism_analysis\\data\\2017-2022\\2019\\ukupno_2019.xls',\n",
    "    '2018': r'C:\\Users\\Ivan\\Desktop\\tourism_analysis\\data\\2017-2022\\2018\\ukupno_2018.xls',\n",
    "    '2017': r'C:\\Users\\Ivan\\Desktop\\tourism_analysis\\data\\2017-2022\\2017\\ukupno_2017.xls'\n",
    "}"
   ]
  },
  {
   "cell_type": "code",
   "execution_count": 54,
   "id": "e91cde47",
   "metadata": {
    "ExecuteTime": {
     "end_time": "2023-03-19T17:27:35.351257Z",
     "start_time": "2023-03-19T17:27:35.090612Z"
    }
   },
   "outputs": [],
   "source": [
    "tourists_by_acc_dict = {}\n",
    "for year, path in file_paths.items():\n",
    "    tourists_by_acc_dict[f'tourists_by_accomodation_{year}'] = pd.read_excel(path, sheet_name='Sheet1', header=6)\n",
    "    "
   ]
  },
  {
   "cell_type": "code",
   "execution_count": 55,
   "id": "3ee87315",
   "metadata": {
    "ExecuteTime": {
     "end_time": "2023-03-19T17:27:35.621174Z",
     "start_time": "2023-03-19T17:27:35.534001Z"
    }
   },
   "outputs": [
    {
     "name": "stderr",
     "output_type": "stream",
     "text": [
      "C:\\Users\\Ivan\\AppData\\Local\\Temp\\ipykernel_11436\\472455009.py:26: FutureWarning: In a future version, `df.iloc[:, i] = newvals` will attempt to set the values inplace instead of always setting a new array. To retain the old behavior, use either `df[df.columns[i]] = newvals` or, if columns are non-unique, `df.isetitem(i, newvals)`\n",
      "  df.iloc[:, 1:] = df.iloc[:, 1:].apply(lambda x: x.astype('int') if x.dtype == 'float' else x)\n"
     ]
    }
   ],
   "source": [
    "for year, df in tourists_by_acc_dict.items():\n",
    "    #renaming columns\n",
    "    df.rename(columns={\n",
    "        df.columns[0]: 'tip_smjestaja',\n",
    "        df.columns[1]: 'dolasci_stranih_turista',\n",
    "        df.columns[2]: 'dolasci_domacih_turista',\n",
    "        df.columns[4]: 'nocenje_stranih_turista',\n",
    "        df.columns[5]: 'nocenje_domacih_turista'},\n",
    "        inplace=True)\n",
    "    #dropping unnecessary columns\n",
    "    df.drop(\n",
    "    columns=[\n",
    "        df.columns[3],\n",
    "        df.columns[6],\n",
    "    ],\n",
    "    inplace=True)\n",
    "    \n",
    "    #removing null rows and converting float to int\n",
    "    tourists_by_acc_dict[year] = df[~df['tip_smjestaja'].isnull()]\n",
    "    tourists_by_acc_dict[year] = tourists_by_acc_dict[year].reset_index(drop=True)\n",
    "    tourists_by_acc_dict[year] = tourists_by_acc_dict[year].fillna(0)\n",
    "    tourists_by_acc_dict[year] = tourists_by_acc_dict[year].replace('-', 0)\n",
    "    \n",
    "\n",
    "for year, df in tourists_by_acc_dict.items():\n",
    "    df.iloc[:, 1:] = df.iloc[:, 1:].apply(lambda x: x.astype('int') if x.dtype == 'float' else x)"
   ]
  },
  {
   "cell_type": "code",
   "execution_count": 57,
   "id": "c59cd576",
   "metadata": {
    "ExecuteTime": {
     "end_time": "2023-03-19T17:39:41.705018Z",
     "start_time": "2023-03-19T17:39:41.674161Z"
    }
   },
   "outputs": [],
   "source": [
    "for year, df in tourists_by_acc_dict.items():\n",
    "    df.to_csv(fr'C:\\Users\\Ivan\\Desktop\\tourism_analysis\\data\\cleaned_data\\final_data_accomodation\\{year}.csv', index=False)"
   ]
  },
  {
   "cell_type": "code",
   "execution_count": 59,
   "id": "bbfe1e9b",
   "metadata": {
    "ExecuteTime": {
     "end_time": "2023-03-20T11:05:06.561183Z",
     "start_time": "2023-03-20T11:05:06.549165Z"
    }
   },
   "outputs": [
    {
     "name": "stdout",
     "output_type": "stream",
     "text": [
      "tourists_by_accomodation_2022 2036403\n",
      "tourists_by_accomodation_2021 1553558\n",
      "tourists_by_accomodation_2020 350795\n",
      "tourists_by_accomodation_2019 2509625\n",
      "tourists_by_accomodation_2018 2076803\n",
      "tourists_by_accomodation_2017 1877212\n"
     ]
    }
   ],
   "source": [
    "for year, df in tourists_by_acc_dict.items():\n",
    "    print(year, df['dolasci_stranih_turista'].sum())"
   ]
  },
  {
   "cell_type": "markdown",
   "id": "7743905a",
   "metadata": {
    "ExecuteTime": {
     "end_time": "2023-03-16T17:05:11.784277Z",
     "start_time": "2023-03-16T17:05:11.765150Z"
    }
   },
   "source": [
    "Druga tabela:"
   ]
  },
  {
   "cell_type": "code",
   "execution_count": 46,
   "id": "279b6017",
   "metadata": {
    "ExecuteTime": {
     "end_time": "2023-03-19T16:21:59.812084Z",
     "start_time": "2023-03-19T16:21:59.538631Z"
    }
   },
   "outputs": [],
   "source": [
    "tourists_by_mun_dict = {}\n",
    "for year, path in file_paths.items():\n",
    "    tourists_by_mun_dict[f'tourists_by_municipality_{year}'] = pd.read_excel(path, sheet_name='Sheet2', header=3)\n",
    "    "
   ]
  },
  {
   "cell_type": "code",
   "execution_count": 47,
   "id": "c3fd2d66",
   "metadata": {
    "ExecuteTime": {
     "end_time": "2023-03-19T16:22:00.564169Z",
     "start_time": "2023-03-19T16:22:00.488248Z"
    }
   },
   "outputs": [
    {
     "name": "stderr",
     "output_type": "stream",
     "text": [
      "C:\\Users\\Ivan\\AppData\\Local\\Temp\\ipykernel_11436\\3664091703.py:16: FutureWarning: In a future version, `df.iloc[:, i] = newvals` will attempt to set the values inplace instead of always setting a new array. To retain the old behavior, use either `df[df.columns[i]] = newvals` or, if columns are non-unique, `df.isetitem(i, newvals)`\n",
      "  df.iloc[:, 1:] = df.iloc[:, 1:].apply(lambda x: x.astype('int') if x.dtype == 'float' else x)\n"
     ]
    }
   ],
   "source": [
    "for year, df in tourists_by_mun_dict.items():\n",
    "    df.rename(columns={\n",
    "            df.columns[0]: 'opstina',\n",
    "            df.columns[1]: 'dolasci_stranih_turista',\n",
    "            df.columns[2]: 'dolasci_domacih_turista',\n",
    "            df.columns[5]: 'nocenje_stranih_turista',\n",
    "            df.columns[6]: 'nocenje_domacih_turista'},\n",
    "            inplace=True\n",
    "    )\n",
    "    df.drop(labels=0, inplace=True)\n",
    "    df.drop(columns=[df.columns[3], df.columns[4], df.columns[7], df.columns[8]],\n",
    "            inplace=True)\n",
    "    tourists_by_mun_dict[year] = tourists_by_mun_dict[year].fillna(0)\n",
    "    tourists_by_mun_dict[year] = tourists_by_mun_dict[year].replace('-', 0)\n",
    "for year, df in tourists_by_mun_dict.items():\n",
    "    df.iloc[:, 1:] = df.iloc[:, 1:].apply(lambda x: x.astype('int') if x.dtype == 'float' else x)"
   ]
  },
  {
   "cell_type": "code",
   "execution_count": 50,
   "id": "2277313e",
   "metadata": {
    "ExecuteTime": {
     "end_time": "2023-03-19T16:22:11.597546Z",
     "start_time": "2023-03-19T16:22:11.574957Z"
    }
   },
   "outputs": [
    {
     "data": {
      "text/html": [
       "<div>\n",
       "<style scoped>\n",
       "    .dataframe tbody tr th:only-of-type {\n",
       "        vertical-align: middle;\n",
       "    }\n",
       "\n",
       "    .dataframe tbody tr th {\n",
       "        vertical-align: top;\n",
       "    }\n",
       "\n",
       "    .dataframe thead th {\n",
       "        text-align: right;\n",
       "    }\n",
       "</style>\n",
       "<table border=\"1\" class=\"dataframe\">\n",
       "  <thead>\n",
       "    <tr style=\"text-align: right;\">\n",
       "      <th></th>\n",
       "      <th>opstina</th>\n",
       "      <th>dolasci_stranih_turista</th>\n",
       "      <th>dolasci_domacih_turista</th>\n",
       "      <th>nocenje_stranih_turista</th>\n",
       "      <th>nocenje_domacih_turista</th>\n",
       "    </tr>\n",
       "  </thead>\n",
       "  <tbody>\n",
       "    <tr>\n",
       "      <th>1</th>\n",
       "      <td>Andrijevica</td>\n",
       "      <td>404</td>\n",
       "      <td>119</td>\n",
       "      <td>2097</td>\n",
       "      <td>468</td>\n",
       "    </tr>\n",
       "    <tr>\n",
       "      <th>2</th>\n",
       "      <td>Bar</td>\n",
       "      <td>145416</td>\n",
       "      <td>6999</td>\n",
       "      <td>1333030</td>\n",
       "      <td>27611</td>\n",
       "    </tr>\n",
       "    <tr>\n",
       "      <th>3</th>\n",
       "      <td>Berane</td>\n",
       "      <td>1890</td>\n",
       "      <td>1955</td>\n",
       "      <td>3193</td>\n",
       "      <td>2645</td>\n",
       "    </tr>\n",
       "    <tr>\n",
       "      <th>4</th>\n",
       "      <td>Bijelo Polje</td>\n",
       "      <td>3227</td>\n",
       "      <td>1116</td>\n",
       "      <td>12923</td>\n",
       "      <td>1944</td>\n",
       "    </tr>\n",
       "    <tr>\n",
       "      <th>5</th>\n",
       "      <td>Budva</td>\n",
       "      <td>522934</td>\n",
       "      <td>33613</td>\n",
       "      <td>2688528</td>\n",
       "      <td>105605</td>\n",
       "    </tr>\n",
       "    <tr>\n",
       "      <th>6</th>\n",
       "      <td>Cetinje</td>\n",
       "      <td>3529</td>\n",
       "      <td>3714</td>\n",
       "      <td>20895</td>\n",
       "      <td>12302</td>\n",
       "    </tr>\n",
       "    <tr>\n",
       "      <th>7</th>\n",
       "      <td>Danilovgrad</td>\n",
       "      <td>2113</td>\n",
       "      <td>129</td>\n",
       "      <td>24338</td>\n",
       "      <td>793</td>\n",
       "    </tr>\n",
       "    <tr>\n",
       "      <th>8</th>\n",
       "      <td>Gusinje</td>\n",
       "      <td>511</td>\n",
       "      <td>26</td>\n",
       "      <td>2159</td>\n",
       "      <td>66</td>\n",
       "    </tr>\n",
       "    <tr>\n",
       "      <th>9</th>\n",
       "      <td>Herceg Novi</td>\n",
       "      <td>238544</td>\n",
       "      <td>15130</td>\n",
       "      <td>2062831</td>\n",
       "      <td>131733</td>\n",
       "    </tr>\n",
       "    <tr>\n",
       "      <th>10</th>\n",
       "      <td>Kolašin</td>\n",
       "      <td>18083</td>\n",
       "      <td>11425</td>\n",
       "      <td>38096</td>\n",
       "      <td>29297</td>\n",
       "    </tr>\n",
       "    <tr>\n",
       "      <th>11</th>\n",
       "      <td>Kotor</td>\n",
       "      <td>129194</td>\n",
       "      <td>3848</td>\n",
       "      <td>669394</td>\n",
       "      <td>11334</td>\n",
       "    </tr>\n",
       "    <tr>\n",
       "      <th>12</th>\n",
       "      <td>Mojkovac</td>\n",
       "      <td>1660</td>\n",
       "      <td>232</td>\n",
       "      <td>3849</td>\n",
       "      <td>495</td>\n",
       "    </tr>\n",
       "    <tr>\n",
       "      <th>13</th>\n",
       "      <td>Nikšić</td>\n",
       "      <td>6173</td>\n",
       "      <td>1653</td>\n",
       "      <td>12586</td>\n",
       "      <td>3938</td>\n",
       "    </tr>\n",
       "    <tr>\n",
       "      <th>14</th>\n",
       "      <td>Petnjica</td>\n",
       "      <td>66</td>\n",
       "      <td>0</td>\n",
       "      <td>80</td>\n",
       "      <td>0</td>\n",
       "    </tr>\n",
       "    <tr>\n",
       "      <th>15</th>\n",
       "      <td>Plav</td>\n",
       "      <td>595</td>\n",
       "      <td>11</td>\n",
       "      <td>8909</td>\n",
       "      <td>97</td>\n",
       "    </tr>\n",
       "    <tr>\n",
       "      <th>16</th>\n",
       "      <td>Pljevlja</td>\n",
       "      <td>2678</td>\n",
       "      <td>2479</td>\n",
       "      <td>9819</td>\n",
       "      <td>9734</td>\n",
       "    </tr>\n",
       "    <tr>\n",
       "      <th>17</th>\n",
       "      <td>Plužine</td>\n",
       "      <td>940</td>\n",
       "      <td>179</td>\n",
       "      <td>1359</td>\n",
       "      <td>1653</td>\n",
       "    </tr>\n",
       "    <tr>\n",
       "      <th>18</th>\n",
       "      <td>Podgorica</td>\n",
       "      <td>83674</td>\n",
       "      <td>12049</td>\n",
       "      <td>169678</td>\n",
       "      <td>26934</td>\n",
       "    </tr>\n",
       "    <tr>\n",
       "      <th>19</th>\n",
       "      <td>Rožaje</td>\n",
       "      <td>876</td>\n",
       "      <td>147</td>\n",
       "      <td>11356</td>\n",
       "      <td>570</td>\n",
       "    </tr>\n",
       "    <tr>\n",
       "      <th>20</th>\n",
       "      <td>Šavnik</td>\n",
       "      <td>336</td>\n",
       "      <td>8</td>\n",
       "      <td>3344</td>\n",
       "      <td>65</td>\n",
       "    </tr>\n",
       "    <tr>\n",
       "      <th>21</th>\n",
       "      <td>Tivat</td>\n",
       "      <td>104253</td>\n",
       "      <td>4728</td>\n",
       "      <td>966322</td>\n",
       "      <td>15674</td>\n",
       "    </tr>\n",
       "    <tr>\n",
       "      <th>22</th>\n",
       "      <td>Tuzi</td>\n",
       "      <td>11</td>\n",
       "      <td>0</td>\n",
       "      <td>11</td>\n",
       "      <td>0</td>\n",
       "    </tr>\n",
       "    <tr>\n",
       "      <th>23</th>\n",
       "      <td>Ulcinj</td>\n",
       "      <td>260404</td>\n",
       "      <td>8739</td>\n",
       "      <td>1297125</td>\n",
       "      <td>39519</td>\n",
       "    </tr>\n",
       "    <tr>\n",
       "      <th>24</th>\n",
       "      <td>Žabljak</td>\n",
       "      <td>26047</td>\n",
       "      <td>9022</td>\n",
       "      <td>81881</td>\n",
       "      <td>26293</td>\n",
       "    </tr>\n",
       "  </tbody>\n",
       "</table>\n",
       "</div>"
      ],
      "text/plain": [
       "         opstina  dolasci_stranih_turista  dolasci_domacih_turista  \\\n",
       "1    Andrijevica                      404                      119   \n",
       "2            Bar                   145416                     6999   \n",
       "3         Berane                     1890                     1955   \n",
       "4   Bijelo Polje                     3227                     1116   \n",
       "5          Budva                   522934                    33613   \n",
       "6        Cetinje                     3529                     3714   \n",
       "7    Danilovgrad                     2113                      129   \n",
       "8        Gusinje                      511                       26   \n",
       "9    Herceg Novi                   238544                    15130   \n",
       "10       Kolašin                    18083                    11425   \n",
       "11         Kotor                   129194                     3848   \n",
       "12      Mojkovac                     1660                      232   \n",
       "13        Nikšić                     6173                     1653   \n",
       "14      Petnjica                       66                        0   \n",
       "15          Plav                      595                       11   \n",
       "16      Pljevlja                     2678                     2479   \n",
       "17       Plužine                      940                      179   \n",
       "18     Podgorica                    83674                    12049   \n",
       "19        Rožaje                      876                      147   \n",
       "20        Šavnik                      336                        8   \n",
       "21         Tivat                   104253                     4728   \n",
       "22          Tuzi                       11                        0   \n",
       "23        Ulcinj                   260404                     8739   \n",
       "24       Žabljak                    26047                     9022   \n",
       "\n",
       "    nocenje_stranih_turista  nocenje_domacih_turista  \n",
       "1                      2097                      468  \n",
       "2                   1333030                    27611  \n",
       "3                      3193                     2645  \n",
       "4                     12923                     1944  \n",
       "5                   2688528                   105605  \n",
       "6                     20895                    12302  \n",
       "7                     24338                      793  \n",
       "8                      2159                       66  \n",
       "9                   2062831                   131733  \n",
       "10                    38096                    29297  \n",
       "11                   669394                    11334  \n",
       "12                     3849                      495  \n",
       "13                    12586                     3938  \n",
       "14                       80                        0  \n",
       "15                     8909                       97  \n",
       "16                     9819                     9734  \n",
       "17                     1359                     1653  \n",
       "18                   169678                    26934  \n",
       "19                    11356                      570  \n",
       "20                     3344                       65  \n",
       "21                   966322                    15674  \n",
       "22                       11                        0  \n",
       "23                  1297125                    39519  \n",
       "24                    81881                    26293  "
      ]
     },
     "execution_count": 50,
     "metadata": {},
     "output_type": "execute_result"
    }
   ],
   "source": [
    "tourists_by_mun_dict['tourists_by_municipality_2021']"
   ]
  },
  {
   "cell_type": "code",
   "execution_count": 51,
   "id": "f8b9f2c1",
   "metadata": {
    "ExecuteTime": {
     "end_time": "2023-03-19T16:22:21.996652Z",
     "start_time": "2023-03-19T16:22:21.966723Z"
    }
   },
   "outputs": [],
   "source": [
    "for year, df in tourists_by_mun_dict.items():\n",
    "    df.to_csv(fr'C:\\Users\\Ivan\\Desktop\\tourism_analysis\\data\\cleaned_data\\final_data_municipality\\{year}.csv', index=False)"
   ]
  },
  {
   "cell_type": "markdown",
   "id": "35b70b8e",
   "metadata": {},
   "source": [
    "Treca Tabela:"
   ]
  },
  {
   "cell_type": "code",
   "execution_count": 9,
   "id": "6f88b299",
   "metadata": {
    "ExecuteTime": {
     "end_time": "2023-03-19T11:02:09.197066Z",
     "start_time": "2023-03-19T11:02:08.925544Z"
    }
   },
   "outputs": [],
   "source": [
    "tourists_by_country_dict = {}\n",
    "for year, path in file_paths.items():\n",
    "    tourists_by_country_dict[f'tourists_by_country_{year}'] = pd.read_excel(path, sheet_name='Sheet3', header=1)"
   ]
  },
  {
   "cell_type": "code",
   "execution_count": 10,
   "id": "f109be02",
   "metadata": {
    "ExecuteTime": {
     "end_time": "2023-03-19T11:02:09.758984Z",
     "start_time": "2023-03-19T11:02:09.723076Z"
    }
   },
   "outputs": [],
   "source": [
    "for year, df in tourists_by_country_dict.items():\n",
    "    df.rename(columns={\n",
    "        df.columns[0]: 'zemlja_porijekla', \n",
    "        df.columns[1]: 'dolasci',\n",
    "        df.columns[3]:'nocenja',},\n",
    "        inplace= True)\n",
    "    \n",
    "    df.drop(columns=[df.columns[2], df.columns[4]],\n",
    "            inplace=True)\n",
    "    \n",
    "    filt = (~df['zemlja_porijekla'].isin(['Strani turisti', 'Evropa', 'Vanevropske zemlje']))\n",
    "    tourists_by_country_dict[year] = df[filt]\n",
    "    tourists_by_country_dict[year] = tourists_by_country_dict[year].reset_index(drop=True)"
   ]
  },
  {
   "cell_type": "code",
   "execution_count": 11,
   "id": "393f0664",
   "metadata": {
    "ExecuteTime": {
     "end_time": "2023-03-19T11:02:10.297967Z",
     "start_time": "2023-03-19T11:02:10.279498Z"
    }
   },
   "outputs": [
    {
     "data": {
      "text/html": [
       "<div>\n",
       "<style scoped>\n",
       "    .dataframe tbody tr th:only-of-type {\n",
       "        vertical-align: middle;\n",
       "    }\n",
       "\n",
       "    .dataframe tbody tr th {\n",
       "        vertical-align: top;\n",
       "    }\n",
       "\n",
       "    .dataframe thead th {\n",
       "        text-align: right;\n",
       "    }\n",
       "</style>\n",
       "<table border=\"1\" class=\"dataframe\">\n",
       "  <thead>\n",
       "    <tr style=\"text-align: right;\">\n",
       "      <th></th>\n",
       "      <th>zemlja_porijekla</th>\n",
       "      <th>dolasci</th>\n",
       "      <th>nocenja</th>\n",
       "    </tr>\n",
       "  </thead>\n",
       "  <tbody>\n",
       "    <tr>\n",
       "      <th>56</th>\n",
       "      <td>Ujedinjeni Arapski Emirati</td>\n",
       "      <td>2302</td>\n",
       "      <td>6183</td>\n",
       "    </tr>\n",
       "    <tr>\n",
       "      <th>57</th>\n",
       "      <td>Ostale azijske zemlje</td>\n",
       "      <td>27486</td>\n",
       "      <td>124100</td>\n",
       "    </tr>\n",
       "    <tr>\n",
       "      <th>58</th>\n",
       "      <td>Australija</td>\n",
       "      <td>6902</td>\n",
       "      <td>32521</td>\n",
       "    </tr>\n",
       "    <tr>\n",
       "      <th>59</th>\n",
       "      <td>Novi Zeland</td>\n",
       "      <td>1528</td>\n",
       "      <td>8519</td>\n",
       "    </tr>\n",
       "    <tr>\n",
       "      <th>60</th>\n",
       "      <td>Ostale zemlje Okeanije</td>\n",
       "      <td>3819</td>\n",
       "      <td>11510</td>\n",
       "    </tr>\n",
       "  </tbody>\n",
       "</table>\n",
       "</div>"
      ],
      "text/plain": [
       "              zemlja_porijekla  dolasci  nocenja\n",
       "56  Ujedinjeni Arapski Emirati     2302     6183\n",
       "57       Ostale azijske zemlje    27486   124100\n",
       "58                  Australija     6902    32521\n",
       "59                 Novi Zeland     1528     8519\n",
       "60      Ostale zemlje Okeanije     3819    11510"
      ]
     },
     "execution_count": 11,
     "metadata": {},
     "output_type": "execute_result"
    }
   ],
   "source": [
    "tourists_by_country_dict['tourists_by_country_2022'].tail()"
   ]
  },
  {
   "cell_type": "code",
   "execution_count": 12,
   "id": "3c384301",
   "metadata": {
    "ExecuteTime": {
     "end_time": "2023-03-19T11:02:10.848577Z",
     "start_time": "2023-03-19T11:02:10.801820Z"
    }
   },
   "outputs": [],
   "source": [
    "for year, df in tourists_by_country_dict.items():\n",
    "    df.to_csv(fr'C:\\Users\\Ivan\\Desktop\\tourism_analysis\\data\\cleaned_data\\final_data_country\\{year}.csv', index=False)"
   ]
  },
  {
   "cell_type": "code",
   "execution_count": 60,
   "id": "039d14be",
   "metadata": {
    "ExecuteTime": {
     "end_time": "2023-03-20T11:05:52.863189Z",
     "start_time": "2023-03-20T11:05:52.700972Z"
    }
   },
   "outputs": [
    {
     "name": "stdout",
     "output_type": "stream",
     "text": [
      "tourists_by_country_2022 2036403\n",
      "tourists_by_country_2021 1553558\n",
      "tourists_by_country_2020 350795\n",
      "tourists_by_country_2019 2509625\n",
      "tourists_by_country_2018 2076803\n",
      "tourists_by_country_2017 1877212\n"
     ]
    }
   ],
   "source": [
    "for year, df in tourists_by_country_dict.items():\n",
    "    print(year, df['dolasci'].sum())"
   ]
  },
  {
   "cell_type": "code",
   "execution_count": null,
   "id": "1ec1a9e7",
   "metadata": {},
   "outputs": [],
   "source": []
  }
 ],
 "metadata": {
  "kernelspec": {
   "display_name": "Python 3 (ipykernel)",
   "language": "python",
   "name": "python3"
  },
  "language_info": {
   "codemirror_mode": {
    "name": "ipython",
    "version": 3
   },
   "file_extension": ".py",
   "mimetype": "text/x-python",
   "name": "python",
   "nbconvert_exporter": "python",
   "pygments_lexer": "ipython3",
   "version": "3.11.0"
  },
  "varInspector": {
   "cols": {
    "lenName": 16,
    "lenType": 16,
    "lenVar": 40
   },
   "kernels_config": {
    "python": {
     "delete_cmd_postfix": "",
     "delete_cmd_prefix": "del ",
     "library": "var_list.py",
     "varRefreshCmd": "print(var_dic_list())"
    },
    "r": {
     "delete_cmd_postfix": ") ",
     "delete_cmd_prefix": "rm(",
     "library": "var_list.r",
     "varRefreshCmd": "cat(var_dic_list()) "
    }
   },
   "types_to_exclude": [
    "module",
    "function",
    "builtin_function_or_method",
    "instance",
    "_Feature"
   ],
   "window_display": false
  }
 },
 "nbformat": 4,
 "nbformat_minor": 5
}
